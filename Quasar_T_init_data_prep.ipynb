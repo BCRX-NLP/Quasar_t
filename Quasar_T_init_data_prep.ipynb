{
 "cells": [
  {
   "cell_type": "markdown",
   "id": "7a8a620c-67b5-4c1f-9116-a996e76b02a3",
   "metadata": {},
   "source": [
    "# IR Dataset (Quasar-t and Quasar-s) Preparation and Preprocessing\n",
    "\n",
    "_____________CREDIT FOR DATASET_______________\n",
    "\n",
    "@article {dhingra2017quasar,\n",
    "  title={Quasar: Datasets for Question Answering by Search and Reading},\n",
    "  author={Dhingra, Bhuwan and Mazaitis, Kathryn and Cohen, William W},\n",
    "  journal={arXiv preprint arXiv:1707.03904},\n",
    "  year={2017}\n",
    "}"
   ]
  },
  {
   "cell_type": "markdown",
   "id": "c84c95f1-8514-4eb9-bfe0-01fad9433dc4",
   "metadata": {},
   "source": [
    "## Importing Pandas and Numpy for basic preprocessing, cleaning, and pickling"
   ]
  },
  {
   "cell_type": "code",
   "execution_count": 1,
   "id": "9c0fff29-0936-42bb-9516-e9fce57ee5ed",
   "metadata": {},
   "outputs": [],
   "source": [
    "import pandas as pd\n",
    "import numpy as np\n",
    "import json\n",
    "import csv"
   ]
  },
  {
   "cell_type": "markdown",
   "id": "5aac1461-6ec1-4b97-baaa-53074ebc4fff",
   "metadata": {},
   "source": [
    "## Data Preparation"
   ]
  },
  {
   "cell_type": "markdown",
   "id": "cf035135-35d2-44fb-a6f9-e06fde51feab",
   "metadata": {},
   "source": [
    " ### Quasar-t dataset is comprised of questions and answer pairs from popular trivia websites with context retrieved through various wiki articles"
   ]
  },
  {
   "cell_type": "code",
   "execution_count": 2,
   "id": "e2bfab07-4af8-489d-b6bb-e2b0bb94eac4",
   "metadata": {},
   "outputs": [],
   "source": [
    "quasar_t_train = ['train_questions_qt.json', 'train_contexts_qt_short.json', 'train_contexts_qt_long.json']\n",
    "quasar_t_dev = ['dev_questions_qt.json', 'dev_contexts_qt_short.json', 'dev_contexts_qt_long.json']\n",
    "quasar_t_test = ['test_questions_qt.json', 'test_contexts_qt_short.json', 'test_contexts_qt_long.json']"
   ]
  },
  {
   "cell_type": "markdown",
   "id": "bbefaec3-f067-48ef-93ef-799fd61aede9",
   "metadata": {},
   "source": [
    "### Creating Dataframes from JSON files for Train, Dev, and Test sets accordingly"
   ]
  },
  {
   "cell_type": "markdown",
   "id": "df5048cd-c9ce-4294-8051-7e5ea18df257",
   "metadata": {},
   "source": [
    "Using a JSON Reader object and then iterating through the chunked files and appending them to a list and then concatinating them together to create a unified dataframe"
   ]
  },
  {
   "cell_type": "code",
   "execution_count": 3,
   "id": "b9771cc1-9040-4108-9437-13b358858857",
   "metadata": {},
   "outputs": [],
   "source": [
    "def json_to_df_chunker(file):\n",
    "    chunk_value = 6000\n",
    "    temp_dfs = []\n",
    "    temp_dfs_2 = pd.read_json(file, typ = 'frame', dtype = 'dict', lines=True, chunksize=chunk_value)\n",
    "    for chunk in temp_dfs_2:\n",
    "        temp_dfs.append(chunk)\n",
    "    df_to_return = pd.concat(temp_dfs, ignore_index=True)\n",
    "    return df_to_return"
   ]
  },
  {
   "cell_type": "markdown",
   "id": "3471910c",
   "metadata": {},
   "source": [
    "Shruthi, our TA, helped us with this code, as we were stuck and confused with the \"squashed\" columns in the JSON file. The workaround was to dump the JSON data into a CSV and then manipulate the file with the csv module. subsequently using the cleaned csv as the input to a pd dataframe."
   ]
  },
  {
   "cell_type": "code",
   "execution_count": 4,
   "id": "edeacd87",
   "metadata": {},
   "outputs": [],
   "source": [
    "def json_to_df_contexts(file, save_file):\n",
    "    f = open(file, \"r\")\n",
    "    lines = f.readlines()\n",
    "    row = []\n",
    "    with open(f'{save_file}.csv', mode='w') as write_file:\n",
    "        write_csv = csv.writer(write_file, delimiter=',', quotechar='\"', quoting=csv.QUOTE_MINIMAL)\n",
    "        write_csv.writerow(['uid', 'score', 'context'])\n",
    "        for line in lines:\n",
    "            row = []\n",
    "            data = json.loads(line)\n",
    "            context = list(data['contexts'])\n",
    "            uid = data['uid']\n",
    "            for c in context:\n",
    "                row = []\n",
    "                list_c = list(c)\n",
    "                row.append(uid)\n",
    "                row.append(list_c[0])\n",
    "                row.append(list_c[1])\n",
    "                write_csv.writerow(row)\n",
    "        "
   ]
  },
  {
   "cell_type": "code",
   "execution_count": 5,
   "id": "42c88e9e",
   "metadata": {},
   "outputs": [],
   "source": [
    "save_file = \"qt_context_long\"\n",
    "qt_context_long = json_to_df_contexts(quasar_t_train[2], save_file)"
   ]
  },
  {
   "cell_type": "code",
   "execution_count": 6,
   "id": "0072e2ef-4fd1-403a-8eef-cf9381bdab96",
   "metadata": {},
   "outputs": [],
   "source": [
    "qt_train_context_long = pd.read_csv('qt_context_long.csv')"
   ]
  },
  {
   "cell_type": "code",
   "execution_count": 7,
   "id": "54c2306a",
   "metadata": {},
   "outputs": [
    {
     "data": {
      "text/html": [
       "<div>\n",
       "<style scoped>\n",
       "    .dataframe tbody tr th:only-of-type {\n",
       "        vertical-align: middle;\n",
       "    }\n",
       "\n",
       "    .dataframe tbody tr th {\n",
       "        vertical-align: top;\n",
       "    }\n",
       "\n",
       "    .dataframe thead th {\n",
       "        text-align: right;\n",
       "    }\n",
       "</style>\n",
       "<table border=\"1\" class=\"dataframe\">\n",
       "  <thead>\n",
       "    <tr style=\"text-align: right;\">\n",
       "      <th></th>\n",
       "      <th>uid</th>\n",
       "      <th>score</th>\n",
       "      <th>context</th>\n",
       "    </tr>\n",
       "  </thead>\n",
       "  <tbody>\n",
       "    <tr>\n",
       "      <th>0</th>\n",
       "      <td>s3q8053</td>\n",
       "      <td>5.811907</td>\n",
       "      <td>Backgammon FAQ : Different Ways of Playing Bac...</td>\n",
       "    </tr>\n",
       "    <tr>\n",
       "      <th>1</th>\n",
       "      <td>s3q8053</td>\n",
       "      <td>5.488704</td>\n",
       "      <td>Backgammon Rules - How to Play Backgammon Navi...</td>\n",
       "    </tr>\n",
       "    <tr>\n",
       "      <th>2</th>\n",
       "      <td>s3q8053</td>\n",
       "      <td>5.472953</td>\n",
       "      <td>Backgammon Rules Backgammon Backgammon Home Ba...</td>\n",
       "    </tr>\n",
       "    <tr>\n",
       "      <th>3</th>\n",
       "      <td>s3q8053</td>\n",
       "      <td>5.097101</td>\n",
       "      <td>Backgammon FAQ Home Backgammon Articles Backga...</td>\n",
       "    </tr>\n",
       "    <tr>\n",
       "      <th>4</th>\n",
       "      <td>s3q8053</td>\n",
       "      <td>4.011511</td>\n",
       "      <td>The Rules of How to Play Backgammon Back to 1o...</td>\n",
       "    </tr>\n",
       "    <tr>\n",
       "      <th>5</th>\n",
       "      <td>s3q8053</td>\n",
       "      <td>3.888346</td>\n",
       "      <td>Best Backgammon Opening Moves Backgammon Backg...</td>\n",
       "    </tr>\n",
       "    <tr>\n",
       "      <th>6</th>\n",
       "      <td>s3q8053</td>\n",
       "      <td>3.673027</td>\n",
       "      <td>Backgammon rules &lt; a href = `` http://www.back...</td>\n",
       "    </tr>\n",
       "    <tr>\n",
       "      <th>7</th>\n",
       "      <td>s3q8053</td>\n",
       "      <td>3.448444</td>\n",
       "      <td>Backgammon Rules . How to play Backgammon Onli...</td>\n",
       "    </tr>\n",
       "    <tr>\n",
       "      <th>8</th>\n",
       "      <td>s3q8053</td>\n",
       "      <td>3.365050</td>\n",
       "      <td>Special Backgammon Top Backgammon Sites Site O...</td>\n",
       "    </tr>\n",
       "    <tr>\n",
       "      <th>9</th>\n",
       "      <td>s3q8053</td>\n",
       "      <td>3.346089</td>\n",
       "      <td>Buy backgammon sets and backgammon boards at t...</td>\n",
       "    </tr>\n",
       "    <tr>\n",
       "      <th>10</th>\n",
       "      <td>s3q8053</td>\n",
       "      <td>3.282211</td>\n",
       "      <td>Dutch Backgammon Main Page Rules Variants Web ...</td>\n",
       "    </tr>\n",
       "    <tr>\n",
       "      <th>11</th>\n",
       "      <td>s3q8053</td>\n",
       "      <td>3.282211</td>\n",
       "      <td>Blocking Backgammon Main Page Rules Variants W...</td>\n",
       "    </tr>\n",
       "    <tr>\n",
       "      <th>12</th>\n",
       "      <td>s3q8053</td>\n",
       "      <td>3.270964</td>\n",
       "      <td>How to Set Up a Backgammon Board Search Board ...</td>\n",
       "    </tr>\n",
       "    <tr>\n",
       "      <th>13</th>\n",
       "      <td>s3q8053</td>\n",
       "      <td>3.240176</td>\n",
       "      <td>How to Play Online Backgammon at BackgammonMas...</td>\n",
       "    </tr>\n",
       "    <tr>\n",
       "      <th>14</th>\n",
       "      <td>s3q8053</td>\n",
       "      <td>3.237795</td>\n",
       "      <td>Backgammon : Online Guide to Popular Backgammo...</td>\n",
       "    </tr>\n",
       "    <tr>\n",
       "      <th>15</th>\n",
       "      <td>s3q8053</td>\n",
       "      <td>3.208001</td>\n",
       "      <td>Backgammon : How to Play the Opening Rolls Bac...</td>\n",
       "    </tr>\n",
       "    <tr>\n",
       "      <th>16</th>\n",
       "      <td>s3q8053</td>\n",
       "      <td>3.179740</td>\n",
       "      <td>Backgammon Gambling The Name of the Game Home ...</td>\n",
       "    </tr>\n",
       "    <tr>\n",
       "      <th>17</th>\n",
       "      <td>s3q8053</td>\n",
       "      <td>3.122935</td>\n",
       "      <td>Bambooweb : Backgammon Backgammon Backgammon i...</td>\n",
       "    </tr>\n",
       "    <tr>\n",
       "      <th>18</th>\n",
       "      <td>s3q8053</td>\n",
       "      <td>3.080526</td>\n",
       "      <td>play online backgammon play online multiplayer...</td>\n",
       "    </tr>\n",
       "    <tr>\n",
       "      <th>19</th>\n",
       "      <td>s3q8053</td>\n",
       "      <td>3.079317</td>\n",
       "      <td>Chemistry - Backgammon Periodic Table - standa...</td>\n",
       "    </tr>\n",
       "    <tr>\n",
       "      <th>20</th>\n",
       "      <td>s3q33199</td>\n",
       "      <td>10.402286</td>\n",
       "      <td>Sherlockian.Net : The View Halloa Sherlockian....</td>\n",
       "    </tr>\n",
       "    <tr>\n",
       "      <th>21</th>\n",
       "      <td>s3q33199</td>\n",
       "      <td>9.295906</td>\n",
       "      <td>1-language . com - ESL Online Literature Libra...</td>\n",
       "    </tr>\n",
       "    <tr>\n",
       "      <th>22</th>\n",
       "      <td>s3q33199</td>\n",
       "      <td>8.567137</td>\n",
       "      <td>The Chronicles of Sir Arthur Conan Doyle - Quo...</td>\n",
       "    </tr>\n",
       "    <tr>\n",
       "      <th>23</th>\n",
       "      <td>s3q33199</td>\n",
       "      <td>7.953532</td>\n",
       "      <td>HOUNDS-L Introduces the Sherlock Holmes Storie...</td>\n",
       "    </tr>\n",
       "    <tr>\n",
       "      <th>24</th>\n",
       "      <td>s3q33199</td>\n",
       "      <td>7.953532</td>\n",
       "      <td>Sherlock Holmes The Baker Street Connection A ...</td>\n",
       "    </tr>\n",
       "  </tbody>\n",
       "</table>\n",
       "</div>"
      ],
      "text/plain": [
       "         uid      score                                            context\n",
       "0    s3q8053   5.811907  Backgammon FAQ : Different Ways of Playing Bac...\n",
       "1    s3q8053   5.488704  Backgammon Rules - How to Play Backgammon Navi...\n",
       "2    s3q8053   5.472953  Backgammon Rules Backgammon Backgammon Home Ba...\n",
       "3    s3q8053   5.097101  Backgammon FAQ Home Backgammon Articles Backga...\n",
       "4    s3q8053   4.011511  The Rules of How to Play Backgammon Back to 1o...\n",
       "5    s3q8053   3.888346  Best Backgammon Opening Moves Backgammon Backg...\n",
       "6    s3q8053   3.673027  Backgammon rules < a href = `` http://www.back...\n",
       "7    s3q8053   3.448444  Backgammon Rules . How to play Backgammon Onli...\n",
       "8    s3q8053   3.365050  Special Backgammon Top Backgammon Sites Site O...\n",
       "9    s3q8053   3.346089  Buy backgammon sets and backgammon boards at t...\n",
       "10   s3q8053   3.282211  Dutch Backgammon Main Page Rules Variants Web ...\n",
       "11   s3q8053   3.282211  Blocking Backgammon Main Page Rules Variants W...\n",
       "12   s3q8053   3.270964  How to Set Up a Backgammon Board Search Board ...\n",
       "13   s3q8053   3.240176  How to Play Online Backgammon at BackgammonMas...\n",
       "14   s3q8053   3.237795  Backgammon : Online Guide to Popular Backgammo...\n",
       "15   s3q8053   3.208001  Backgammon : How to Play the Opening Rolls Bac...\n",
       "16   s3q8053   3.179740  Backgammon Gambling The Name of the Game Home ...\n",
       "17   s3q8053   3.122935  Bambooweb : Backgammon Backgammon Backgammon i...\n",
       "18   s3q8053   3.080526  play online backgammon play online multiplayer...\n",
       "19   s3q8053   3.079317  Chemistry - Backgammon Periodic Table - standa...\n",
       "20  s3q33199  10.402286  Sherlockian.Net : The View Halloa Sherlockian....\n",
       "21  s3q33199   9.295906  1-language . com - ESL Online Literature Libra...\n",
       "22  s3q33199   8.567137  The Chronicles of Sir Arthur Conan Doyle - Quo...\n",
       "23  s3q33199   7.953532  HOUNDS-L Introduces the Sherlock Holmes Storie...\n",
       "24  s3q33199   7.953532  Sherlock Holmes The Baker Street Connection A ..."
      ]
     },
     "execution_count": 7,
     "metadata": {},
     "output_type": "execute_result"
    }
   ],
   "source": [
    "qt_train_context_long.head(25)"
   ]
  },
  {
   "cell_type": "code",
   "execution_count": 8,
   "id": "c4e8254f",
   "metadata": {},
   "outputs": [
    {
     "data": {
      "text/plain": [
       "'Backgammon FAQ : Different Ways of Playing Backgammon FAQ Different Ways of Playing Tables and Backgammon What is tables ? How is backgammon different from the other games of tables ? Does backgammon have official rules ? Backgammon Variants What is Nackgammon ? What is hyper-backgammon ? What is long-gammon ? What is roll-over ? What is backgammon-to-lose ? Acey-Deucey What is acey-deucey ? How do you play American acey-deucey ? How do you play European acey-deucey ? Greek Backgammon What is tavli ? How do you play portes ? How do you play plakoto ? How do you play fevga ? Other Games What is trictrac ? What is Russian backgammon ? What is French backgammon ? What is Dutch backgammon ? What is snake ? Forms of Competition What is money play ? What is match play ? What is a freeze-out match ? What is duplicate backgammon ? Table Stakes What is table stakes betting ? Why is table stakes used ? How does strategy in table stakes differ from unlimited money play ? Chouette What is a chouette ? What is a multiple-cube chouette ? When is consulting allowed ? What are extras ? Tables and Backgammon Q : What is tables ? Tables is the general term for any game played on a backgammon board . Actually , it is bit presumptuous of us to even call it a backgammon board , since backgammon is only 400 years old and some of the other games of tables are thousands of years old . Most tables games have the following features : The board consists of 24 spaces or points . Each player has 15 pieces or checkers to move around the board . The checkers are moved according to the numbers rolled on a set of dice . Usually two or three dice are rolled together . Q : How is backgammon different from the other games of tables ? There are three features that distinguish backgammon from other games : Starting position . Each player starts with 2 checkers on their respective 24-points , 5 checkers on their mid-points , 3 checkers on their 8-points , and 5 checkers on their six-points . Doubles played twice . When you roll doubles , you play each'"
      ]
     },
     "execution_count": 8,
     "metadata": {},
     "output_type": "execute_result"
    }
   ],
   "source": [
    "qt_train_context_long.iloc[0][2]"
   ]
  },
  {
   "cell_type": "markdown",
   "id": "d13cbcb2",
   "metadata": {},
   "source": [
    "### Sweet! love to see that. Now that its all cleaned up and we have the context corpus genuinely isolated for quasar-t, we can go ahead and pickle them to distribute to teammates for our own exprimentation with NLP preprocessing"
   ]
  },
  {
   "cell_type": "code",
   "execution_count": 9,
   "id": "32c9c30d-8afa-4adb-bb34-cc7fbbfb72df",
   "metadata": {},
   "outputs": [],
   "source": [
    "qt_train_questions = json_to_df_chunker(quasar_t_train[0])"
   ]
  },
  {
   "cell_type": "code",
   "execution_count": 10,
   "id": "0fb01de3-3734-41d0-9a39-126bda693056",
   "metadata": {},
   "outputs": [
    {
     "data": {
      "text/html": [
       "<div>\n",
       "<style scoped>\n",
       "    .dataframe tbody tr th:only-of-type {\n",
       "        vertical-align: middle;\n",
       "    }\n",
       "\n",
       "    .dataframe tbody tr th {\n",
       "        vertical-align: top;\n",
       "    }\n",
       "\n",
       "    .dataframe thead th {\n",
       "        text-align: right;\n",
       "    }\n",
       "</style>\n",
       "<table border=\"1\" class=\"dataframe\">\n",
       "  <thead>\n",
       "    <tr style=\"text-align: right;\">\n",
       "      <th></th>\n",
       "      <th>answer</th>\n",
       "      <th>question</th>\n",
       "      <th>uid</th>\n",
       "      <th>tags</th>\n",
       "    </tr>\n",
       "  </thead>\n",
       "  <tbody>\n",
       "    <tr>\n",
       "      <th>37007</th>\n",
       "      <td>ohio</td>\n",
       "      <td>Hang On Sloopy ' was the official rock song of...</td>\n",
       "      <td>s3q30425</td>\n",
       "      <td>[1tok, yes-answer-long, yes-answer-short]</td>\n",
       "    </tr>\n",
       "    <tr>\n",
       "      <th>37008</th>\n",
       "      <td>a commodore pet</td>\n",
       "      <td>Name the first self contained home computer -</td>\n",
       "      <td>s3q30420</td>\n",
       "      <td>[]</td>\n",
       "    </tr>\n",
       "    <tr>\n",
       "      <th>37009</th>\n",
       "      <td>ku klux klan</td>\n",
       "      <td>This racist organisation was formed in Tenness...</td>\n",
       "      <td>s3q30421</td>\n",
       "      <td>[yes-answer-long, yes-answer-short]</td>\n",
       "    </tr>\n",
       "    <tr>\n",
       "      <th>37010</th>\n",
       "      <td>wyoming usa</td>\n",
       "      <td>Where is the Devil 's Tower</td>\n",
       "      <td>s3q30422</td>\n",
       "      <td>[yes-answer-long]</td>\n",
       "    </tr>\n",
       "    <tr>\n",
       "      <th>37011</th>\n",
       "      <td>iran</td>\n",
       "      <td>In What Country Did The Rather Prestigious Spo...</td>\n",
       "      <td>s3q30423</td>\n",
       "      <td>[1tok, yes-answer-long, yes-answer-short]</td>\n",
       "    </tr>\n",
       "  </tbody>\n",
       "</table>\n",
       "</div>"
      ],
      "text/plain": [
       "                answer                                           question  \\\n",
       "37007             ohio  Hang On Sloopy ' was the official rock song of...   \n",
       "37008  a commodore pet      Name the first self contained home computer -   \n",
       "37009     ku klux klan  This racist organisation was formed in Tenness...   \n",
       "37010      wyoming usa                        Where is the Devil 's Tower   \n",
       "37011             iran  In What Country Did The Rather Prestigious Spo...   \n",
       "\n",
       "            uid                                       tags  \n",
       "37007  s3q30425  [1tok, yes-answer-long, yes-answer-short]  \n",
       "37008  s3q30420                                         []  \n",
       "37009  s3q30421        [yes-answer-long, yes-answer-short]  \n",
       "37010  s3q30422                          [yes-answer-long]  \n",
       "37011  s3q30423  [1tok, yes-answer-long, yes-answer-short]  "
      ]
     },
     "execution_count": 10,
     "metadata": {},
     "output_type": "execute_result"
    }
   ],
   "source": [
    "qt_train_questions.tail()"
   ]
  },
  {
   "cell_type": "code",
   "execution_count": 11,
   "id": "ec98543c",
   "metadata": {},
   "outputs": [
    {
     "data": {
      "text/plain": [
       "'Which Scottish Golfer Was Captain Of Europes 2002 Ryder Cup Team'"
      ]
     },
     "execution_count": 11,
     "metadata": {},
     "output_type": "execute_result"
    }
   ],
   "source": [
    "qt_train_questions.iloc[2][1]"
   ]
  },
  {
   "cell_type": "code",
   "execution_count": 12,
   "id": "e672c5a6",
   "metadata": {},
   "outputs": [
    {
     "data": {
      "text/html": [
       "<div>\n",
       "<style scoped>\n",
       "    .dataframe tbody tr th:only-of-type {\n",
       "        vertical-align: middle;\n",
       "    }\n",
       "\n",
       "    .dataframe tbody tr th {\n",
       "        vertical-align: top;\n",
       "    }\n",
       "\n",
       "    .dataframe thead th {\n",
       "        text-align: right;\n",
       "    }\n",
       "</style>\n",
       "<table border=\"1\" class=\"dataframe\">\n",
       "  <thead>\n",
       "    <tr style=\"text-align: right;\">\n",
       "      <th></th>\n",
       "      <th>answer</th>\n",
       "      <th>question</th>\n",
       "      <th>uid</th>\n",
       "      <th>tags</th>\n",
       "    </tr>\n",
       "  </thead>\n",
       "  <tbody>\n",
       "    <tr>\n",
       "      <th>0</th>\n",
       "      <td>24</td>\n",
       "      <td>How many points does a backgammon board have</td>\n",
       "      <td>s3q8053</td>\n",
       "      <td>[1tok, yes-answer-long, yes-answer-short]</td>\n",
       "    </tr>\n",
       "    <tr>\n",
       "      <th>1</th>\n",
       "      <td>sherlock holmes</td>\n",
       "      <td>Whose cases were Empty House Copper Beeches Bl...</td>\n",
       "      <td>s3q33199</td>\n",
       "      <td>[yes-answer-long, yes-answer-short]</td>\n",
       "    </tr>\n",
       "    <tr>\n",
       "      <th>2</th>\n",
       "      <td>sam torrance</td>\n",
       "      <td>Which Scottish Golfer Was Captain Of Europes 2...</td>\n",
       "      <td>s3q33198</td>\n",
       "      <td>[]</td>\n",
       "    </tr>\n",
       "    <tr>\n",
       "      <th>3</th>\n",
       "      <td>first quarter</td>\n",
       "      <td>What is a two-bit moon</td>\n",
       "      <td>s3q33194</td>\n",
       "      <td>[yes-answer-long, yes-answer-short]</td>\n",
       "    </tr>\n",
       "    <tr>\n",
       "      <th>4</th>\n",
       "      <td>nissan</td>\n",
       "      <td>The `` Maxima '' was a model of which car</td>\n",
       "      <td>s3q33197</td>\n",
       "      <td>[1tok, yes-answer-long, yes-answer-short]</td>\n",
       "    </tr>\n",
       "  </tbody>\n",
       "</table>\n",
       "</div>"
      ],
      "text/plain": [
       "            answer                                           question  \\\n",
       "0               24       How many points does a backgammon board have   \n",
       "1  sherlock holmes  Whose cases were Empty House Copper Beeches Bl...   \n",
       "2     sam torrance  Which Scottish Golfer Was Captain Of Europes 2...   \n",
       "3    first quarter                             What is a two-bit moon   \n",
       "4           nissan          The `` Maxima '' was a model of which car   \n",
       "\n",
       "        uid                                       tags  \n",
       "0   s3q8053  [1tok, yes-answer-long, yes-answer-short]  \n",
       "1  s3q33199        [yes-answer-long, yes-answer-short]  \n",
       "2  s3q33198                                         []  \n",
       "3  s3q33194        [yes-answer-long, yes-answer-short]  \n",
       "4  s3q33197  [1tok, yes-answer-long, yes-answer-short]  "
      ]
     },
     "execution_count": 12,
     "metadata": {},
     "output_type": "execute_result"
    }
   ],
   "source": [
    "qt_train_questions.head()"
   ]
  },
  {
   "cell_type": "code",
   "execution_count": 13,
   "id": "a3487b6f",
   "metadata": {},
   "outputs": [],
   "source": [
    "#qt_train_questions.to_pickle(\"qt_train_questions.pickle\")"
   ]
  },
  {
   "cell_type": "code",
   "execution_count": null,
   "id": "b3ae06b8",
   "metadata": {},
   "outputs": [],
   "source": [
    "#qt_train_q_2 = pd.read_pickle(\"qt_train_questions.pickle\")"
   ]
  },
  {
   "cell_type": "code",
   "execution_count": 15,
   "id": "73f787eb",
   "metadata": {},
   "outputs": [
    {
     "data": {
      "text/html": [
       "<div>\n",
       "<style scoped>\n",
       "    .dataframe tbody tr th:only-of-type {\n",
       "        vertical-align: middle;\n",
       "    }\n",
       "\n",
       "    .dataframe tbody tr th {\n",
       "        vertical-align: top;\n",
       "    }\n",
       "\n",
       "    .dataframe thead th {\n",
       "        text-align: right;\n",
       "    }\n",
       "</style>\n",
       "<table border=\"1\" class=\"dataframe\">\n",
       "  <thead>\n",
       "    <tr style=\"text-align: right;\">\n",
       "      <th></th>\n",
       "      <th>answer</th>\n",
       "      <th>question</th>\n",
       "      <th>uid</th>\n",
       "      <th>tags</th>\n",
       "    </tr>\n",
       "  </thead>\n",
       "  <tbody>\n",
       "    <tr>\n",
       "      <th>37007</th>\n",
       "      <td>ohio</td>\n",
       "      <td>Hang On Sloopy ' was the official rock song of...</td>\n",
       "      <td>s3q30425</td>\n",
       "      <td>[1tok, yes-answer-long, yes-answer-short]</td>\n",
       "    </tr>\n",
       "    <tr>\n",
       "      <th>37008</th>\n",
       "      <td>a commodore pet</td>\n",
       "      <td>Name the first self contained home computer -</td>\n",
       "      <td>s3q30420</td>\n",
       "      <td>[]</td>\n",
       "    </tr>\n",
       "    <tr>\n",
       "      <th>37009</th>\n",
       "      <td>ku klux klan</td>\n",
       "      <td>This racist organisation was formed in Tenness...</td>\n",
       "      <td>s3q30421</td>\n",
       "      <td>[yes-answer-long, yes-answer-short]</td>\n",
       "    </tr>\n",
       "    <tr>\n",
       "      <th>37010</th>\n",
       "      <td>wyoming usa</td>\n",
       "      <td>Where is the Devil 's Tower</td>\n",
       "      <td>s3q30422</td>\n",
       "      <td>[yes-answer-long]</td>\n",
       "    </tr>\n",
       "    <tr>\n",
       "      <th>37011</th>\n",
       "      <td>iran</td>\n",
       "      <td>In What Country Did The Rather Prestigious Spo...</td>\n",
       "      <td>s3q30423</td>\n",
       "      <td>[1tok, yes-answer-long, yes-answer-short]</td>\n",
       "    </tr>\n",
       "  </tbody>\n",
       "</table>\n",
       "</div>"
      ],
      "text/plain": [
       "                answer                                           question  \\\n",
       "37007             ohio  Hang On Sloopy ' was the official rock song of...   \n",
       "37008  a commodore pet      Name the first self contained home computer -   \n",
       "37009     ku klux klan  This racist organisation was formed in Tenness...   \n",
       "37010      wyoming usa                        Where is the Devil 's Tower   \n",
       "37011             iran  In What Country Did The Rather Prestigious Spo...   \n",
       "\n",
       "            uid                                       tags  \n",
       "37007  s3q30425  [1tok, yes-answer-long, yes-answer-short]  \n",
       "37008  s3q30420                                         []  \n",
       "37009  s3q30421        [yes-answer-long, yes-answer-short]  \n",
       "37010  s3q30422                          [yes-answer-long]  \n",
       "37011  s3q30423  [1tok, yes-answer-long, yes-answer-short]  "
      ]
     },
     "execution_count": 15,
     "metadata": {},
     "output_type": "execute_result"
    }
   ],
   "source": [
    "#qt_train_q_2.tail()"
   ]
  },
  {
   "cell_type": "code",
   "execution_count": null,
   "id": "aee69495-4d07-4230-950d-c1aadec0b941",
   "metadata": {},
   "outputs": [],
   "source": [
    "quasar_t_train = ['train_questions_qt.json', 'train_contexts_qt_short.json', 'train_contexts_qt_long.json']\n",
    "quasar_t_dev = ['dev_questions_qt.json', 'dev_contexts_qt_short.json', 'dev_contexts_qt_long.json']\n",
    "quasar_t_test = ['test_questions_qt.json', 'test_contexts_qt_short.json', 'test_contexts_qt_long.json']"
   ]
  },
  {
   "cell_type": "code",
   "execution_count": 9,
   "id": "f4607637",
   "metadata": {},
   "outputs": [],
   "source": [
    "qt_train_context_long.to_pickle('qt_train_context_long.pickle')"
   ]
  },
  {
   "cell_type": "code",
   "execution_count": 36,
   "id": "e490c430-f2b1-4c95-bcf1-49313421e192",
   "metadata": {},
   "outputs": [],
   "source": [
    "qt_dev_questions = json_to_df_chunker(quasar_t_dev[0])\n",
    "qt_test_questions = json_to_df_chunker(quasar_t_test[0])\n",
    "qt_dev_questions.to_pickle(\"qt_dev_questions.pickle\")\n",
    "qt_test_questions.to_pickle(\"qt_test_questions.pickle\")"
   ]
  },
  {
   "cell_type": "code",
   "execution_count": 11,
   "id": "a07376f1-2ea0-4637-80d6-089b2b32c352",
   "metadata": {},
   "outputs": [],
   "source": [
    "#save_file = 'qt_t_context_short'\n",
    "#qt_t_context_short = json_to_df_contexts(quasar_t_train[1], save_file)\n",
    "qt_train_context_short = pd.read_csv('qt_t_context_short.csv')\n",
    "qt_train_context_short.to_pickle('qt_train_context_short.pickle')"
   ]
  },
  {
   "cell_type": "code",
   "execution_count": 13,
   "id": "ae4dbea9-54eb-46fe-9a61-3d6f70433300",
   "metadata": {},
   "outputs": [],
   "source": [
    "#save_file = \"qt_dev_context_short\"\n",
    "#qt_context_long = json_to_df_contexts(quasar_t_dev[1], save_file)\n",
    "qt_dev_context_long = pd.read_csv('qt_d_context_short.csv')\n",
    "qt_dev_context_long.to_pickle('qt_dev_context_short.pickle')"
   ]
  },
  {
   "cell_type": "code",
   "execution_count": 14,
   "id": "a3587606-14ea-4d16-97a2-9a04e99e7888",
   "metadata": {},
   "outputs": [],
   "source": [
    "save_file = \"qt_dev_context_long\"\n",
    "qt_context_long = json_to_df_contexts(quasar_t_dev[2], save_file)\n",
    "qt_dev_context_long = pd.read_csv('qt_dev_context_long.csv')\n",
    "qt_dev_context_long.to_pickle('qt_dev_context_long.pickle')"
   ]
  },
  {
   "cell_type": "code",
   "execution_count": 15,
   "id": "96c6e1d0-9815-40ec-b6c7-1d51f472fe12",
   "metadata": {},
   "outputs": [],
   "source": [
    "save_file = \"qt_test_context_short\"\n",
    "qt_context_long = json_to_df_contexts(quasar_t_test[1], save_file)\n",
    "qt_test_context_long = pd.read_csv('qt_test_context_short.csv')\n",
    "qt_test_context_long.to_pickle('qt_test_context_short.pickle')"
   ]
  },
  {
   "cell_type": "code",
   "execution_count": 16,
   "id": "17ebda14",
   "metadata": {},
   "outputs": [],
   "source": [
    "save_file = \"qt_test_context_long\"\n",
    "qt_context_long = json_to_df_contexts(quasar_t_test[2], save_file)\n",
    "qt_test_context_long = pd.read_csv('qt_test_context_long.csv')\n",
    "qt_test_context_long.to_pickle('qt_test_context_long.pickle')"
   ]
  },
  {
   "cell_type": "code",
   "execution_count": 18,
   "id": "d2f510ea",
   "metadata": {},
   "outputs": [
    {
     "data": {
      "text/html": [
       "<div>\n",
       "<style scoped>\n",
       "    .dataframe tbody tr th:only-of-type {\n",
       "        vertical-align: middle;\n",
       "    }\n",
       "\n",
       "    .dataframe tbody tr th {\n",
       "        vertical-align: top;\n",
       "    }\n",
       "\n",
       "    .dataframe thead th {\n",
       "        text-align: right;\n",
       "    }\n",
       "</style>\n",
       "<table border=\"1\" class=\"dataframe\">\n",
       "  <thead>\n",
       "    <tr style=\"text-align: right;\">\n",
       "      <th></th>\n",
       "      <th>uid</th>\n",
       "      <th>score</th>\n",
       "      <th>context</th>\n",
       "    </tr>\n",
       "  </thead>\n",
       "  <tbody>\n",
       "    <tr>\n",
       "      <th>0</th>\n",
       "      <td>s3q1674</td>\n",
       "      <td>5.322954</td>\n",
       "      <td>Tripedia Information - Drugs and Treatments - ...</td>\n",
       "    </tr>\n",
       "    <tr>\n",
       "      <th>1</th>\n",
       "      <td>s3q1674</td>\n",
       "      <td>5.322954</td>\n",
       "      <td>Acel-Imune Information - Drugs and Treatments ...</td>\n",
       "    </tr>\n",
       "    <tr>\n",
       "      <th>2</th>\n",
       "      <td>s3q1674</td>\n",
       "      <td>4.139742</td>\n",
       "      <td>DHPE Home Tetanus Tetanus -LSB- TET-nus -RSB- ...</td>\n",
       "    </tr>\n",
       "    <tr>\n",
       "      <th>3</th>\n",
       "      <td>s3q1674</td>\n",
       "      <td>4.139742</td>\n",
       "      <td>Tetanus Tetanus Tetanus -LSB- TET-nus -RSB- is...</td>\n",
       "    </tr>\n",
       "    <tr>\n",
       "      <th>4</th>\n",
       "      <td>s3q1674</td>\n",
       "      <td>3.880914</td>\n",
       "      <td>Tetanus KidsHealth &gt; Parents &gt; Infections &gt; Ba...</td>\n",
       "    </tr>\n",
       "  </tbody>\n",
       "</table>\n",
       "</div>"
      ],
      "text/plain": [
       "       uid     score                                            context\n",
       "0  s3q1674  5.322954  Tripedia Information - Drugs and Treatments - ...\n",
       "1  s3q1674  5.322954  Acel-Imune Information - Drugs and Treatments ...\n",
       "2  s3q1674  4.139742  DHPE Home Tetanus Tetanus -LSB- TET-nus -RSB- ...\n",
       "3  s3q1674  4.139742  Tetanus Tetanus Tetanus -LSB- TET-nus -RSB- is...\n",
       "4  s3q1674  3.880914  Tetanus KidsHealth > Parents > Infections > Ba..."
      ]
     },
     "execution_count": 18,
     "metadata": {},
     "output_type": "execute_result"
    }
   ],
   "source": [
    "df = pd.read_pickle(\"qt_dev_context_long.pickle\")\n",
    "df.head()"
   ]
  },
  {
   "cell_type": "code",
   "execution_count": 19,
   "id": "9bdeb574",
   "metadata": {},
   "outputs": [
    {
     "data": {
      "text/html": [
       "<div>\n",
       "<style scoped>\n",
       "    .dataframe tbody tr th:only-of-type {\n",
       "        vertical-align: middle;\n",
       "    }\n",
       "\n",
       "    .dataframe tbody tr th {\n",
       "        vertical-align: top;\n",
       "    }\n",
       "\n",
       "    .dataframe thead th {\n",
       "        text-align: right;\n",
       "    }\n",
       "</style>\n",
       "<table border=\"1\" class=\"dataframe\">\n",
       "  <thead>\n",
       "    <tr style=\"text-align: right;\">\n",
       "      <th></th>\n",
       "      <th>answer</th>\n",
       "      <th>question</th>\n",
       "      <th>uid</th>\n",
       "      <th>tags</th>\n",
       "    </tr>\n",
       "  </thead>\n",
       "  <tbody>\n",
       "    <tr>\n",
       "      <th>0</th>\n",
       "      <td>tetanus</td>\n",
       "      <td>Lockjaw is another name for which disease</td>\n",
       "      <td>s3q1674</td>\n",
       "      <td>[1tok, yes-answer-long, yes-answer-short]</td>\n",
       "    </tr>\n",
       "    <tr>\n",
       "      <th>1</th>\n",
       "      <td>leek</td>\n",
       "      <td>Which vegetable is a Welsh emblem ?</td>\n",
       "      <td>s3q18157</td>\n",
       "      <td>[1tok]</td>\n",
       "    </tr>\n",
       "    <tr>\n",
       "      <th>2</th>\n",
       "      <td>the guns of naverone</td>\n",
       "      <td>Which film won the best special effects Oscar ...</td>\n",
       "      <td>s3q6589</td>\n",
       "      <td>[]</td>\n",
       "    </tr>\n",
       "    <tr>\n",
       "      <th>3</th>\n",
       "      <td>sitting on the dock of a bay</td>\n",
       "      <td>What Was Otis Redding 's Biggest Hit Coming Af...</td>\n",
       "      <td>s3q22477</td>\n",
       "      <td>[]</td>\n",
       "    </tr>\n",
       "    <tr>\n",
       "      <th>4</th>\n",
       "      <td>king herod</td>\n",
       "      <td>Who ordered John the Baptists execution</td>\n",
       "      <td>s3q17645</td>\n",
       "      <td>[yes-answer-long, yes-answer-short]</td>\n",
       "    </tr>\n",
       "  </tbody>\n",
       "</table>\n",
       "</div>"
      ],
      "text/plain": [
       "                         answer  \\\n",
       "0                       tetanus   \n",
       "1                          leek   \n",
       "2          the guns of naverone   \n",
       "3  sitting on the dock of a bay   \n",
       "4                    king herod   \n",
       "\n",
       "                                            question       uid  \\\n",
       "0          Lockjaw is another name for which disease   s3q1674   \n",
       "1                Which vegetable is a Welsh emblem ?  s3q18157   \n",
       "2  Which film won the best special effects Oscar ...   s3q6589   \n",
       "3  What Was Otis Redding 's Biggest Hit Coming Af...  s3q22477   \n",
       "4            Who ordered John the Baptists execution  s3q17645   \n",
       "\n",
       "                                        tags  \n",
       "0  [1tok, yes-answer-long, yes-answer-short]  \n",
       "1                                     [1tok]  \n",
       "2                                         []  \n",
       "3                                         []  \n",
       "4        [yes-answer-long, yes-answer-short]  "
      ]
     },
     "execution_count": 19,
     "metadata": {},
     "output_type": "execute_result"
    }
   ],
   "source": [
    "df_1 = pd.read_pickle(\"qt_dev_questions.pickle\")\n",
    "df_1.head()"
   ]
  },
  {
   "cell_type": "markdown",
   "id": "9f25d59f",
   "metadata": {},
   "source": [
    "## Sweet, everything is looking good, going to send these out to the team and begin working on expirimenting with different NLP preprocessing techniques"
   ]
  },
  {
   "cell_type": "code",
   "execution_count": null,
   "id": "6f7c5508",
   "metadata": {},
   "outputs": [],
   "source": []
  }
 ],
 "metadata": {
  "kernelspec": {
   "display_name": "Python 3 (ipykernel)",
   "language": "python",
   "name": "python3"
  },
  "language_info": {
   "codemirror_mode": {
    "name": "ipython",
    "version": 3
   },
   "file_extension": ".py",
   "mimetype": "text/x-python",
   "name": "python",
   "nbconvert_exporter": "python",
   "pygments_lexer": "ipython3",
   "version": "3.9.12"
  }
 },
 "nbformat": 4,
 "nbformat_minor": 5
}
