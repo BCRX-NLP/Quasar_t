{
 "cells": [
  {
   "cell_type": "markdown",
   "id": "7a8a620c-67b5-4c1f-9116-a996e76b02a3",
   "metadata": {},
   "source": [
    "# IR Dataset (Quasar-t and Quasar-s) Preparation and Preprocessing\n",
    "\n",
    "_____________CREDIT FOR DATASET_______________\n",
    "\n",
    "@article {dhingra2017quasar,\n",
    "  title={Quasar: Datasets for Question Answering by Search and Reading},\n",
    "  author={Dhingra, Bhuwan and Mazaitis, Kathryn and Cohen, William W},\n",
    "  journal={arXiv preprint arXiv:1707.03904},\n",
    "  year={2017}\n",
    "}"
   ]
  },
  {
   "cell_type": "markdown",
   "id": "c84c95f1-8514-4eb9-bfe0-01fad9433dc4",
   "metadata": {},
   "source": [
    "## Importing Pandas and Numpy for basic preprocessing, cleaning, and pickling"
   ]
  },
  {
   "cell_type": "code",
   "execution_count": 38,
   "id": "9c0fff29-0936-42bb-9516-e9fce57ee5ed",
   "metadata": {},
   "outputs": [],
   "source": [
    "import pandas as pd\n",
    "import numpy as np\n",
    "import json"
   ]
  },
  {
   "cell_type": "markdown",
   "id": "5aac1461-6ec1-4b97-baaa-53074ebc4fff",
   "metadata": {},
   "source": [
    "## Data Preparation"
   ]
  },
  {
   "cell_type": "markdown",
   "id": "cf035135-35d2-44fb-a6f9-e06fde51feab",
   "metadata": {},
   "source": [
    " ### Quasar-t dataset is comprised of questions and answer pairs from popular trivia websites with context retrieved through various wiki articles"
   ]
  },
  {
   "cell_type": "code",
   "execution_count": 2,
   "id": "e2bfab07-4af8-489d-b6bb-e2b0bb94eac4",
   "metadata": {},
   "outputs": [],
   "source": [
    "quasar_t_train = ['train_questions_qt.json', 'train_contexts_qt_short.json', 'train_contexts_qt_long.json']\n",
    "quasar_t_dev = ['dev_questions_qt.json', 'dev_contexts_qt_short.json', 'dev_contexts_qt_short.json']\n",
    "quasar_t_test = ['test_questions_qt.json', 'test_contexts_qt_short.json', 'test_contexts_qt_long.json']"
   ]
  },
  {
   "cell_type": "markdown",
   "id": "bc741b72-de1b-471c-a883-34b63a9d5a1b",
   "metadata": {},
   "source": [
    "### Quasar-s dataset is comprised of questions and answer pairs from stack overflow with context from the most upvoted answers"
   ]
  },
  {
   "cell_type": "code",
   "execution_count": 7,
   "id": "35b99a32-9029-444e-833b-0f5f0522b460",
   "metadata": {},
   "outputs": [],
   "source": [
    "quasar_s_train = ['train_questions_qs.json', 'train_contexts_qs_short.json', 'train_contexts_qs_long.json']\n",
    "quasar_s_dev = ['dev_questions_qs.json', 'dev_contexts_qs_short.json', 'dev_contexts_qs_long.json']\n",
    "quasar_s_test = ['test_questions_qs.json', 'test_contexts_qs_short.json', 'test_contexts_qs_long.json']"
   ]
  },
  {
   "cell_type": "markdown",
   "id": "bbefaec3-f067-48ef-93ef-799fd61aede9",
   "metadata": {},
   "source": [
    "### Creating Dataframes from JSON files for Train, Dev, and Test sets accordingly"
   ]
  },
  {
   "cell_type": "markdown",
   "id": "b569b22b-62e1-40e0-9f33-dffd09aaba6a",
   "metadata": {},
   "source": [
    "side note: I've had a nightmare working with this dataset, it has crashed my computer like 30x by now, as my hardware is not very powerful :/ have had to do a lot of research into memory usage workarounds which turned into the verbose solutions you see below"
   ]
  },
  {
   "cell_type": "markdown",
   "id": "0d8c85fc-2950-4daa-851d-ae6367eb595b",
   "metadata": {},
   "source": [
    "#### Quasar-t"
   ]
  },
  {
   "cell_type": "markdown",
   "id": "df5048cd-c9ce-4294-8051-7e5ea18df257",
   "metadata": {},
   "source": [
    "Using a JSON Reader object and then iterating through the chunked files and appending them to a list and then concatinating them together to create a unified dataframe"
   ]
  },
  {
   "cell_type": "markdown",
   "id": "e735ed41",
   "metadata": {},
   "source": [
    "#### quasar-t train[01] is from quasar-s, got to fix that"
   ]
  },
  {
   "cell_type": "code",
   "execution_count": 37,
   "id": "32deabb3-e5d4-4a06-afaf-a22b9f125464",
   "metadata": {},
   "outputs": [],
   "source": [
    "#chunk_value = 6000\n",
    "#quasar_t_train_c_s_dfs = []\n",
    "\n",
    "#for i in quasar_t_train:\n",
    "    #quasar_t_train_c_s_dfs_temp = pd.read_json(quasar_t_train[1], typ = 'frame', dtype = 'dict', lines=True, chunksize=chunk_value)\n",
    "    #for chunk in quasar_t_train_c_s_dfs_temp:\n",
    "        #quasar_t_train_c_s_dfs.append(chunk)\n",
    "        \n",
    "#quasar_t_train_c_s = pd.concat(quasar_t_train_c_s_dfs, ignore_index=True)"
   ]
  },
  {
   "cell_type": "markdown",
   "id": "a6b106f3-1989-4515-85ae-d41ac06841ab",
   "metadata": {},
   "source": [
    "pd.read_json approaches"
   ]
  },
  {
   "cell_type": "code",
   "execution_count": 9,
   "id": "132f86a7-fe6a-4ebf-b4f8-04df536a8abd",
   "metadata": {},
   "outputs": [],
   "source": [
    "#quasar_t_train_q = pd.read_json(quasar_t_train[0], lines = True) \n",
    "#quasar_t_train_c_s = pd.read_json(quasar_t_train[1], lines = True) \n",
    "#quasar_t_train_c_l = pd.read_json(quasar_t_train[2], lines = True) "
   ]
  },
  {
   "cell_type": "code",
   "execution_count": 31,
   "id": "a2efd21f",
   "metadata": {},
   "outputs": [],
   "source": [
    "#quasar_t_dev_q = pd.read_json(quasar_t_dev[0], lines = True) \n",
    "#quasar_t_dev_c_s = pd.read_json(quasar_t_dev[1], lines = True) \n",
    "quasar_t_dev_c_l = pd.read_json(quasar_t_dev[2], lines = True) "
   ]
  },
  {
   "cell_type": "code",
   "execution_count": 4,
   "id": "125bd796-397c-4a45-851a-e39f1921ae47",
   "metadata": {},
   "outputs": [],
   "source": [
    "quasar_t_test_q = pd.read_json(quasar_t_test[0], lines = True) \n",
    "quasar_t_test_c_s = pd.read_json(quasar_t_test[1], lines = True) \n",
    "quasar_t_test_c_l = pd.read_json(quasar_t_test[2], lines = True) "
   ]
  },
  {
   "cell_type": "markdown",
   "id": "a9a057ae-cb7a-4da5-b097-dbf9c7194a1a",
   "metadata": {},
   "source": [
    "#### Quasar-s"
   ]
  },
  {
   "cell_type": "code",
   "execution_count": 19,
   "id": "22d51135-badf-4e4c-adf5-7b8de0df2cb6",
   "metadata": {},
   "outputs": [],
   "source": [
    "#quasar_s_train_q = pd.read_json(quasar_s_train[0], lines = True) \n",
    "#quasar_s_train_c_s = pd.read_json(quasar_s_train[1], lines = True) \n",
    "#quasar_s_train_c_l = pd.read_json(quasar_s_train[2], lines = True) "
   ]
  },
  {
   "cell_type": "code",
   "execution_count": 8,
   "id": "f4ef1708-7130-4392-8d3f-53d889b838e5",
   "metadata": {},
   "outputs": [],
   "source": [
    "quasar_s_dev_q = pd.read_json(quasar_s_dev[0], lines = True) \n",
    "quasar_s_dev_c_s = pd.read_json(quasar_s_dev[1], lines = True) \n",
    "quasar_s_dev_c_l = pd.read_json(quasar_s_dev[2], lines = True)"
   ]
  },
  {
   "cell_type": "code",
   "execution_count": 9,
   "id": "811840e3-89b6-44bc-8817-efbd7e89144b",
   "metadata": {},
   "outputs": [],
   "source": [
    "quasar_s_test_q = pd.read_json(quasar_s_test[0], lines = True) \n",
    "quasar_s_test_c_s = pd.read_json(quasar_s_test[1], lines = True) \n",
    "quasar_s_test_c_l = pd.read_json(quasar_s_test[2], lines = True) "
   ]
  },
  {
   "cell_type": "markdown",
   "id": "dff6b3d0-55ea-4680-978f-a1d64bac32ff",
   "metadata": {},
   "source": [
    "### Merging various datasets into combined dataframes"
   ]
  },
  {
   "cell_type": "code",
   "execution_count": 13,
   "id": "71e883b4-f1b6-4e69-b20d-fa3b92c8b36a",
   "metadata": {},
   "outputs": [],
   "source": [
    "quasar_t_dev_dfs = [quasar_t_dev_q, quasar_t_dev_c_s, quasar_t_dev_c_l]\n",
    "\n",
    "quasar_t_dev_dfs = pd.concat(quasar_t_dev_dfs, ignore_index=False)"
   ]
  },
  {
   "cell_type": "code",
   "execution_count": 47,
   "id": "7ffc98ee-be5d-4ea1-819d-9ab13573c19a",
   "metadata": {},
   "outputs": [
    {
     "data": {
      "text/html": [
       "<div>\n",
       "<style scoped>\n",
       "    .dataframe tbody tr th:only-of-type {\n",
       "        vertical-align: middle;\n",
       "    }\n",
       "\n",
       "    .dataframe tbody tr th {\n",
       "        vertical-align: top;\n",
       "    }\n",
       "\n",
       "    .dataframe thead th {\n",
       "        text-align: right;\n",
       "    }\n",
       "</style>\n",
       "<table border=\"1\" class=\"dataframe\">\n",
       "  <thead>\n",
       "    <tr style=\"text-align: right;\">\n",
       "      <th></th>\n",
       "      <th>contexts</th>\n",
       "      <th>uid</th>\n",
       "    </tr>\n",
       "  </thead>\n",
       "  <tbody>\n",
       "    <tr>\n",
       "      <th>0</th>\n",
       "      <td>[[19.01995, Another name for tetanus is lockja...</td>\n",
       "      <td>s3q1674</td>\n",
       "    </tr>\n",
       "    <tr>\n",
       "      <th>1</th>\n",
       "      <td>[[11.920193, A pungent vegetable is the nation...</td>\n",
       "      <td>s3q18157</td>\n",
       "    </tr>\n",
       "    <tr>\n",
       "      <th>2</th>\n",
       "      <td>[[11.341947, In 1963 , the category was split ...</td>\n",
       "      <td>s3q6589</td>\n",
       "    </tr>\n",
       "    <tr>\n",
       "      <th>3</th>\n",
       "      <td>[[16.642262, Otis redding : a who2 profile oti...</td>\n",
       "      <td>s3q22477</td>\n",
       "    </tr>\n",
       "    <tr>\n",
       "      <th>4</th>\n",
       "      <td>[[9.247021, This was the Herod who was ruling ...</td>\n",
       "      <td>s3q17645</td>\n",
       "    </tr>\n",
       "  </tbody>\n",
       "</table>\n",
       "</div>"
      ],
      "text/plain": [
       "                                            contexts       uid\n",
       "0  [[19.01995, Another name for tetanus is lockja...   s3q1674\n",
       "1  [[11.920193, A pungent vegetable is the nation...  s3q18157\n",
       "2  [[11.341947, In 1963 , the category was split ...   s3q6589\n",
       "3  [[16.642262, Otis redding : a who2 profile oti...  s3q22477\n",
       "4  [[9.247021, This was the Herod who was ruling ...  s3q17645"
      ]
     },
     "execution_count": 47,
     "metadata": {},
     "output_type": "execute_result"
    }
   ],
   "source": [
    "quasar_t_dev_c_l.head()"
   ]
  },
  {
   "cell_type": "code",
   "execution_count": 46,
   "id": "d7b3d095-a06f-43cd-a763-e0aca437034f",
   "metadata": {},
   "outputs": [
    {
     "data": {
      "text/html": [
       "<div>\n",
       "<style scoped>\n",
       "    .dataframe tbody tr th:only-of-type {\n",
       "        vertical-align: middle;\n",
       "    }\n",
       "\n",
       "    .dataframe tbody tr th {\n",
       "        vertical-align: top;\n",
       "    }\n",
       "\n",
       "    .dataframe thead th {\n",
       "        text-align: right;\n",
       "    }\n",
       "</style>\n",
       "<table border=\"1\" class=\"dataframe\">\n",
       "  <thead>\n",
       "    <tr style=\"text-align: right;\">\n",
       "      <th></th>\n",
       "      <th>answer</th>\n",
       "      <th>question</th>\n",
       "      <th>uid</th>\n",
       "      <th>tags</th>\n",
       "      <th>contexts</th>\n",
       "    </tr>\n",
       "  </thead>\n",
       "  <tbody>\n",
       "    <tr>\n",
       "      <th>0</th>\n",
       "      <td>tetanus</td>\n",
       "      <td>Lockjaw is another name for which disease</td>\n",
       "      <td>s3q1674</td>\n",
       "      <td>[1tok, yes-answer-long, yes-answer-short]</td>\n",
       "      <td>NaN</td>\n",
       "    </tr>\n",
       "    <tr>\n",
       "      <th>1</th>\n",
       "      <td>leek</td>\n",
       "      <td>Which vegetable is a Welsh emblem ?</td>\n",
       "      <td>s3q18157</td>\n",
       "      <td>[1tok]</td>\n",
       "      <td>NaN</td>\n",
       "    </tr>\n",
       "    <tr>\n",
       "      <th>2</th>\n",
       "      <td>the guns of naverone</td>\n",
       "      <td>Which film won the best special effects Oscar ...</td>\n",
       "      <td>s3q6589</td>\n",
       "      <td>[]</td>\n",
       "      <td>NaN</td>\n",
       "    </tr>\n",
       "    <tr>\n",
       "      <th>3</th>\n",
       "      <td>sitting on the dock of a bay</td>\n",
       "      <td>What Was Otis Redding 's Biggest Hit Coming Af...</td>\n",
       "      <td>s3q22477</td>\n",
       "      <td>[]</td>\n",
       "      <td>NaN</td>\n",
       "    </tr>\n",
       "    <tr>\n",
       "      <th>4</th>\n",
       "      <td>king herod</td>\n",
       "      <td>Who ordered John the Baptists execution</td>\n",
       "      <td>s3q17645</td>\n",
       "      <td>[yes-answer-long, yes-answer-short]</td>\n",
       "      <td>NaN</td>\n",
       "    </tr>\n",
       "  </tbody>\n",
       "</table>\n",
       "</div>"
      ],
      "text/plain": [
       "                         answer  \\\n",
       "0                       tetanus   \n",
       "1                          leek   \n",
       "2          the guns of naverone   \n",
       "3  sitting on the dock of a bay   \n",
       "4                    king herod   \n",
       "\n",
       "                                            question       uid  \\\n",
       "0          Lockjaw is another name for which disease   s3q1674   \n",
       "1                Which vegetable is a Welsh emblem ?  s3q18157   \n",
       "2  Which film won the best special effects Oscar ...   s3q6589   \n",
       "3  What Was Otis Redding 's Biggest Hit Coming Af...  s3q22477   \n",
       "4            Who ordered John the Baptists execution  s3q17645   \n",
       "\n",
       "                                        tags contexts  \n",
       "0  [1tok, yes-answer-long, yes-answer-short]      NaN  \n",
       "1                                     [1tok]      NaN  \n",
       "2                                         []      NaN  \n",
       "3                                         []      NaN  \n",
       "4        [yes-answer-long, yes-answer-short]      NaN  "
      ]
     },
     "execution_count": 46,
     "metadata": {},
     "output_type": "execute_result"
    }
   ],
   "source": [
    "quasar_t_dev_dfs.head()"
   ]
  },
  {
   "cell_type": "code",
   "execution_count": null,
   "id": "b7f5d9b6-8aac-4ff8-96cd-41463eb32564",
   "metadata": {},
   "outputs": [],
   "source": []
  }
 ],
 "metadata": {
  "kernelspec": {
   "display_name": "Python 3 (ipykernel)",
   "language": "python",
   "name": "python3"
  },
  "language_info": {
   "codemirror_mode": {
    "name": "ipython",
    "version": 3
   },
   "file_extension": ".py",
   "mimetype": "text/x-python",
   "name": "python",
   "nbconvert_exporter": "python",
   "pygments_lexer": "ipython3",
   "version": "3.9.12"
  }
 },
 "nbformat": 4,
 "nbformat_minor": 5
}
