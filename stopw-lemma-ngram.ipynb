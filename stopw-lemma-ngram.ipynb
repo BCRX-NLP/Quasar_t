{
 "cells": [
  {
   "cell_type": "code",
   "execution_count": 1,
   "id": "12af4b34",
   "metadata": {},
   "outputs": [],
   "source": [
    "import pandas as pd\n",
    "import numpy as np\n",
    "import nltk"
   ]
  },
  {
   "cell_type": "markdown",
   "id": "b4064408",
   "metadata": {},
   "source": [
    "## Quick overview of the basic properties of the dataframes (train_context and _question)"
   ]
  },
  {
   "cell_type": "code",
   "execution_count": 2,
   "id": "026e4134",
   "metadata": {},
   "outputs": [],
   "source": [
    "df = pd.read_pickle('qt_train_context_long.pickle')\n",
    "df_labels = pd.read_pickle(\"qt_train_questions.pickle\")"
   ]
  },
  {
   "cell_type": "code",
   "execution_count": 3,
   "id": "11155fa2",
   "metadata": {},
   "outputs": [
    {
     "data": {
      "text/html": [
       "<div>\n",
       "<style scoped>\n",
       "    .dataframe tbody tr th:only-of-type {\n",
       "        vertical-align: middle;\n",
       "    }\n",
       "\n",
       "    .dataframe tbody tr th {\n",
       "        vertical-align: top;\n",
       "    }\n",
       "\n",
       "    .dataframe thead th {\n",
       "        text-align: right;\n",
       "    }\n",
       "</style>\n",
       "<table border=\"1\" class=\"dataframe\">\n",
       "  <thead>\n",
       "    <tr style=\"text-align: right;\">\n",
       "      <th></th>\n",
       "      <th>uid</th>\n",
       "      <th>score</th>\n",
       "      <th>context</th>\n",
       "    </tr>\n",
       "  </thead>\n",
       "  <tbody>\n",
       "    <tr>\n",
       "      <th>0</th>\n",
       "      <td>s3q8053</td>\n",
       "      <td>5.811907</td>\n",
       "      <td>Backgammon FAQ : Different Ways of Playing Bac...</td>\n",
       "    </tr>\n",
       "    <tr>\n",
       "      <th>1</th>\n",
       "      <td>s3q8053</td>\n",
       "      <td>5.488704</td>\n",
       "      <td>Backgammon Rules - How to Play Backgammon Navi...</td>\n",
       "    </tr>\n",
       "    <tr>\n",
       "      <th>2</th>\n",
       "      <td>s3q8053</td>\n",
       "      <td>5.472953</td>\n",
       "      <td>Backgammon Rules Backgammon Backgammon Home Ba...</td>\n",
       "    </tr>\n",
       "    <tr>\n",
       "      <th>3</th>\n",
       "      <td>s3q8053</td>\n",
       "      <td>5.097101</td>\n",
       "      <td>Backgammon FAQ Home Backgammon Articles Backga...</td>\n",
       "    </tr>\n",
       "    <tr>\n",
       "      <th>4</th>\n",
       "      <td>s3q8053</td>\n",
       "      <td>4.011511</td>\n",
       "      <td>The Rules of How to Play Backgammon Back to 1o...</td>\n",
       "    </tr>\n",
       "  </tbody>\n",
       "</table>\n",
       "</div>"
      ],
      "text/plain": [
       "       uid     score                                            context\n",
       "0  s3q8053  5.811907  Backgammon FAQ : Different Ways of Playing Bac...\n",
       "1  s3q8053  5.488704  Backgammon Rules - How to Play Backgammon Navi...\n",
       "2  s3q8053  5.472953  Backgammon Rules Backgammon Backgammon Home Ba...\n",
       "3  s3q8053  5.097101  Backgammon FAQ Home Backgammon Articles Backga...\n",
       "4  s3q8053  4.011511  The Rules of How to Play Backgammon Back to 1o..."
      ]
     },
     "execution_count": 3,
     "metadata": {},
     "output_type": "execute_result"
    }
   ],
   "source": [
    "df.head()"
   ]
  },
  {
   "cell_type": "code",
   "execution_count": 4,
   "id": "430bd8db",
   "metadata": {},
   "outputs": [
    {
     "data": {
      "text/html": [
       "<div>\n",
       "<style scoped>\n",
       "    .dataframe tbody tr th:only-of-type {\n",
       "        vertical-align: middle;\n",
       "    }\n",
       "\n",
       "    .dataframe tbody tr th {\n",
       "        vertical-align: top;\n",
       "    }\n",
       "\n",
       "    .dataframe thead th {\n",
       "        text-align: right;\n",
       "    }\n",
       "</style>\n",
       "<table border=\"1\" class=\"dataframe\">\n",
       "  <thead>\n",
       "    <tr style=\"text-align: right;\">\n",
       "      <th></th>\n",
       "      <th>answer</th>\n",
       "      <th>question</th>\n",
       "      <th>uid</th>\n",
       "      <th>tags</th>\n",
       "    </tr>\n",
       "  </thead>\n",
       "  <tbody>\n",
       "    <tr>\n",
       "      <th>0</th>\n",
       "      <td>24</td>\n",
       "      <td>How many points does a backgammon board have</td>\n",
       "      <td>s3q8053</td>\n",
       "      <td>[1tok, yes-answer-long, yes-answer-short]</td>\n",
       "    </tr>\n",
       "    <tr>\n",
       "      <th>1</th>\n",
       "      <td>sherlock holmes</td>\n",
       "      <td>Whose cases were Empty House Copper Beeches Bl...</td>\n",
       "      <td>s3q33199</td>\n",
       "      <td>[yes-answer-long, yes-answer-short]</td>\n",
       "    </tr>\n",
       "    <tr>\n",
       "      <th>2</th>\n",
       "      <td>sam torrance</td>\n",
       "      <td>Which Scottish Golfer Was Captain Of Europes 2...</td>\n",
       "      <td>s3q33198</td>\n",
       "      <td>[]</td>\n",
       "    </tr>\n",
       "    <tr>\n",
       "      <th>3</th>\n",
       "      <td>first quarter</td>\n",
       "      <td>What is a two-bit moon</td>\n",
       "      <td>s3q33194</td>\n",
       "      <td>[yes-answer-long, yes-answer-short]</td>\n",
       "    </tr>\n",
       "    <tr>\n",
       "      <th>4</th>\n",
       "      <td>nissan</td>\n",
       "      <td>The `` Maxima '' was a model of which car</td>\n",
       "      <td>s3q33197</td>\n",
       "      <td>[1tok, yes-answer-long, yes-answer-short]</td>\n",
       "    </tr>\n",
       "  </tbody>\n",
       "</table>\n",
       "</div>"
      ],
      "text/plain": [
       "            answer                                           question  \\\n",
       "0               24       How many points does a backgammon board have   \n",
       "1  sherlock holmes  Whose cases were Empty House Copper Beeches Bl...   \n",
       "2     sam torrance  Which Scottish Golfer Was Captain Of Europes 2...   \n",
       "3    first quarter                             What is a two-bit moon   \n",
       "4           nissan          The `` Maxima '' was a model of which car   \n",
       "\n",
       "        uid                                       tags  \n",
       "0   s3q8053  [1tok, yes-answer-long, yes-answer-short]  \n",
       "1  s3q33199        [yes-answer-long, yes-answer-short]  \n",
       "2  s3q33198                                         []  \n",
       "3  s3q33194        [yes-answer-long, yes-answer-short]  \n",
       "4  s3q33197  [1tok, yes-answer-long, yes-answer-short]  "
      ]
     },
     "execution_count": 4,
     "metadata": {},
     "output_type": "execute_result"
    }
   ],
   "source": [
    "df_labels.head()"
   ]
  },
  {
   "cell_type": "code",
   "execution_count": 11,
   "id": "859dd29f",
   "metadata": {},
   "outputs": [
    {
     "data": {
      "text/plain": [
       "(37012, 4)"
      ]
     },
     "execution_count": 11,
     "metadata": {},
     "output_type": "execute_result"
    }
   ],
   "source": [
    "df.shape\n",
    "df_labels.shape"
   ]
  },
  {
   "cell_type": "markdown",
   "id": "2b1e3f48",
   "metadata": {},
   "source": [
    "## Merge dataframes and drop the non-text columns to keep only the context, question, and answer"
   ]
  },
  {
   "cell_type": "code",
   "execution_count": 5,
   "id": "c1b71f30",
   "metadata": {},
   "outputs": [
    {
     "data": {
      "text/html": [
       "<div>\n",
       "<style scoped>\n",
       "    .dataframe tbody tr th:only-of-type {\n",
       "        vertical-align: middle;\n",
       "    }\n",
       "\n",
       "    .dataframe tbody tr th {\n",
       "        vertical-align: top;\n",
       "    }\n",
       "\n",
       "    .dataframe thead th {\n",
       "        text-align: right;\n",
       "    }\n",
       "</style>\n",
       "<table border=\"1\" class=\"dataframe\">\n",
       "  <thead>\n",
       "    <tr style=\"text-align: right;\">\n",
       "      <th></th>\n",
       "      <th>uid</th>\n",
       "      <th>score</th>\n",
       "      <th>context</th>\n",
       "      <th>answer</th>\n",
       "      <th>question</th>\n",
       "      <th>tags</th>\n",
       "    </tr>\n",
       "  </thead>\n",
       "  <tbody>\n",
       "    <tr>\n",
       "      <th>0</th>\n",
       "      <td>s3q8053</td>\n",
       "      <td>5.811907</td>\n",
       "      <td>Backgammon FAQ : Different Ways of Playing Bac...</td>\n",
       "      <td>24</td>\n",
       "      <td>How many points does a backgammon board have</td>\n",
       "      <td>[1tok, yes-answer-long, yes-answer-short]</td>\n",
       "    </tr>\n",
       "    <tr>\n",
       "      <th>1</th>\n",
       "      <td>s3q8053</td>\n",
       "      <td>5.488704</td>\n",
       "      <td>Backgammon Rules - How to Play Backgammon Navi...</td>\n",
       "      <td>24</td>\n",
       "      <td>How many points does a backgammon board have</td>\n",
       "      <td>[1tok, yes-answer-long, yes-answer-short]</td>\n",
       "    </tr>\n",
       "    <tr>\n",
       "      <th>2</th>\n",
       "      <td>s3q8053</td>\n",
       "      <td>5.472953</td>\n",
       "      <td>Backgammon Rules Backgammon Backgammon Home Ba...</td>\n",
       "      <td>24</td>\n",
       "      <td>How many points does a backgammon board have</td>\n",
       "      <td>[1tok, yes-answer-long, yes-answer-short]</td>\n",
       "    </tr>\n",
       "    <tr>\n",
       "      <th>3</th>\n",
       "      <td>s3q8053</td>\n",
       "      <td>5.097101</td>\n",
       "      <td>Backgammon FAQ Home Backgammon Articles Backga...</td>\n",
       "      <td>24</td>\n",
       "      <td>How many points does a backgammon board have</td>\n",
       "      <td>[1tok, yes-answer-long, yes-answer-short]</td>\n",
       "    </tr>\n",
       "    <tr>\n",
       "      <th>4</th>\n",
       "      <td>s3q8053</td>\n",
       "      <td>4.011511</td>\n",
       "      <td>The Rules of How to Play Backgammon Back to 1o...</td>\n",
       "      <td>24</td>\n",
       "      <td>How many points does a backgammon board have</td>\n",
       "      <td>[1tok, yes-answer-long, yes-answer-short]</td>\n",
       "    </tr>\n",
       "  </tbody>\n",
       "</table>\n",
       "</div>"
      ],
      "text/plain": [
       "       uid     score                                            context  \\\n",
       "0  s3q8053  5.811907  Backgammon FAQ : Different Ways of Playing Bac...   \n",
       "1  s3q8053  5.488704  Backgammon Rules - How to Play Backgammon Navi...   \n",
       "2  s3q8053  5.472953  Backgammon Rules Backgammon Backgammon Home Ba...   \n",
       "3  s3q8053  5.097101  Backgammon FAQ Home Backgammon Articles Backga...   \n",
       "4  s3q8053  4.011511  The Rules of How to Play Backgammon Back to 1o...   \n",
       "\n",
       "  answer                                      question  \\\n",
       "0     24  How many points does a backgammon board have   \n",
       "1     24  How many points does a backgammon board have   \n",
       "2     24  How many points does a backgammon board have   \n",
       "3     24  How many points does a backgammon board have   \n",
       "4     24  How many points does a backgammon board have   \n",
       "\n",
       "                                        tags  \n",
       "0  [1tok, yes-answer-long, yes-answer-short]  \n",
       "1  [1tok, yes-answer-long, yes-answer-short]  \n",
       "2  [1tok, yes-answer-long, yes-answer-short]  \n",
       "3  [1tok, yes-answer-long, yes-answer-short]  \n",
       "4  [1tok, yes-answer-long, yes-answer-short]  "
      ]
     },
     "execution_count": 5,
     "metadata": {},
     "output_type": "execute_result"
    }
   ],
   "source": [
    "# Merge dataframes with respect to the unique UIDs\n",
    "condition = (df_labels[df_labels.uid.isin(df.uid)])\n",
    "df = df.merge(condition)\n",
    "\n",
    "df.head()"
   ]
  },
  {
   "cell_type": "code",
   "execution_count": 6,
   "id": "7939302f",
   "metadata": {},
   "outputs": [
    {
     "data": {
      "text/html": [
       "<div>\n",
       "<style scoped>\n",
       "    .dataframe tbody tr th:only-of-type {\n",
       "        vertical-align: middle;\n",
       "    }\n",
       "\n",
       "    .dataframe tbody tr th {\n",
       "        vertical-align: top;\n",
       "    }\n",
       "\n",
       "    .dataframe thead th {\n",
       "        text-align: right;\n",
       "    }\n",
       "</style>\n",
       "<table border=\"1\" class=\"dataframe\">\n",
       "  <thead>\n",
       "    <tr style=\"text-align: right;\">\n",
       "      <th></th>\n",
       "      <th>context</th>\n",
       "      <th>answer</th>\n",
       "      <th>question</th>\n",
       "    </tr>\n",
       "  </thead>\n",
       "  <tbody>\n",
       "    <tr>\n",
       "      <th>0</th>\n",
       "      <td>Backgammon FAQ : Different Ways of Playing Bac...</td>\n",
       "      <td>24</td>\n",
       "      <td>How many points does a backgammon board have</td>\n",
       "    </tr>\n",
       "    <tr>\n",
       "      <th>1</th>\n",
       "      <td>Backgammon Rules - How to Play Backgammon Navi...</td>\n",
       "      <td>24</td>\n",
       "      <td>How many points does a backgammon board have</td>\n",
       "    </tr>\n",
       "    <tr>\n",
       "      <th>2</th>\n",
       "      <td>Backgammon Rules Backgammon Backgammon Home Ba...</td>\n",
       "      <td>24</td>\n",
       "      <td>How many points does a backgammon board have</td>\n",
       "    </tr>\n",
       "    <tr>\n",
       "      <th>3</th>\n",
       "      <td>Backgammon FAQ Home Backgammon Articles Backga...</td>\n",
       "      <td>24</td>\n",
       "      <td>How many points does a backgammon board have</td>\n",
       "    </tr>\n",
       "    <tr>\n",
       "      <th>4</th>\n",
       "      <td>The Rules of How to Play Backgammon Back to 1o...</td>\n",
       "      <td>24</td>\n",
       "      <td>How many points does a backgammon board have</td>\n",
       "    </tr>\n",
       "  </tbody>\n",
       "</table>\n",
       "</div>"
      ],
      "text/plain": [
       "                                             context answer  \\\n",
       "0  Backgammon FAQ : Different Ways of Playing Bac...     24   \n",
       "1  Backgammon Rules - How to Play Backgammon Navi...     24   \n",
       "2  Backgammon Rules Backgammon Backgammon Home Ba...     24   \n",
       "3  Backgammon FAQ Home Backgammon Articles Backga...     24   \n",
       "4  The Rules of How to Play Backgammon Back to 1o...     24   \n",
       "\n",
       "                                       question  \n",
       "0  How many points does a backgammon board have  \n",
       "1  How many points does a backgammon board have  \n",
       "2  How many points does a backgammon board have  \n",
       "3  How many points does a backgammon board have  \n",
       "4  How many points does a backgammon board have  "
      ]
     },
     "execution_count": 6,
     "metadata": {},
     "output_type": "execute_result"
    }
   ],
   "source": [
    "df.drop(columns=['uid','score','tags'], inplace=True) #drop non-text columns\n",
    "\n",
    "df.head()"
   ]
  },
  {
   "cell_type": "markdown",
   "id": "6a5d0b48",
   "metadata": {},
   "source": [
    "## Remove the stopwords with NLTK"
   ]
  },
  {
   "cell_type": "code",
   "execution_count": 7,
   "id": "25f5adaa",
   "metadata": {
    "scrolled": true
   },
   "outputs": [
    {
     "name": "stdout",
     "output_type": "stream",
     "text": [
      "['i', 'me', 'my', 'myself', 'we', 'our', 'ours', 'ourselves', 'you', \"you're\", \"you've\", \"you'll\", \"you'd\", 'your', 'yours', 'yourself', 'yourselves', 'he', 'him', 'his', 'himself', 'she', \"she's\", 'her', 'hers', 'herself', 'it', \"it's\", 'its', 'itself', 'they', 'them', 'their', 'theirs', 'themselves', 'what', 'which', 'who', 'whom', 'this', 'that', \"that'll\", 'these', 'those', 'am', 'is', 'are', 'was', 'were', 'be', 'been', 'being', 'have', 'has', 'had', 'having', 'do', 'does', 'did', 'doing', 'a', 'an', 'the', 'and', 'but', 'if', 'or', 'because', 'as', 'until', 'while', 'of', 'at', 'by', 'for', 'with', 'about', 'against', 'between', 'into', 'through', 'during', 'before', 'after', 'above', 'below', 'to', 'from', 'up', 'down', 'in', 'out', 'on', 'off', 'over', 'under', 'again', 'further', 'then', 'once', 'here', 'there', 'when', 'where', 'why', 'how', 'all', 'any', 'both', 'each', 'few', 'more', 'most', 'other', 'some', 'such', 'no', 'nor', 'not', 'only', 'own', 'same', 'so', 'than', 'too', 'very', 's', 't', 'can', 'will', 'just', 'don', \"don't\", 'should', \"should've\", 'now', 'd', 'll', 'm', 'o', 're', 've', 'y', 'ain', 'aren', \"aren't\", 'couldn', \"couldn't\", 'didn', \"didn't\", 'doesn', \"doesn't\", 'hadn', \"hadn't\", 'hasn', \"hasn't\", 'haven', \"haven't\", 'isn', \"isn't\", 'ma', 'mightn', \"mightn't\", 'mustn', \"mustn't\", 'needn', \"needn't\", 'shan', \"shan't\", 'shouldn', \"shouldn't\", 'wasn', \"wasn't\", 'weren', \"weren't\", 'won', \"won't\", 'wouldn', \"wouldn't\"]\n"
     ]
    }
   ],
   "source": [
    "from nltk.corpus import stopwords\n",
    "\n",
    "print(stopwords.words('english')) #view the stopwords to be removed"
   ]
  },
  {
   "cell_type": "code",
   "execution_count": 8,
   "id": "2e75c51f",
   "metadata": {},
   "outputs": [
    {
     "data": {
      "text/html": [
       "<div>\n",
       "<style scoped>\n",
       "    .dataframe tbody tr th:only-of-type {\n",
       "        vertical-align: middle;\n",
       "    }\n",
       "\n",
       "    .dataframe tbody tr th {\n",
       "        vertical-align: top;\n",
       "    }\n",
       "\n",
       "    .dataframe thead th {\n",
       "        text-align: right;\n",
       "    }\n",
       "</style>\n",
       "<table border=\"1\" class=\"dataframe\">\n",
       "  <thead>\n",
       "    <tr style=\"text-align: right;\">\n",
       "      <th></th>\n",
       "      <th>context</th>\n",
       "      <th>answer</th>\n",
       "      <th>question</th>\n",
       "    </tr>\n",
       "  </thead>\n",
       "  <tbody>\n",
       "    <tr>\n",
       "      <th>0</th>\n",
       "      <td>Backgammon FAQ : Different Ways Playing Backga...</td>\n",
       "      <td>24</td>\n",
       "      <td>How many points backgammon board</td>\n",
       "    </tr>\n",
       "    <tr>\n",
       "      <th>1</th>\n",
       "      <td>Backgammon Rules - How Play Backgammon Navigat...</td>\n",
       "      <td>24</td>\n",
       "      <td>How many points backgammon board</td>\n",
       "    </tr>\n",
       "    <tr>\n",
       "      <th>2</th>\n",
       "      <td>Backgammon Rules Backgammon Backgammon Home Ba...</td>\n",
       "      <td>24</td>\n",
       "      <td>How many points backgammon board</td>\n",
       "    </tr>\n",
       "    <tr>\n",
       "      <th>3</th>\n",
       "      <td>Backgammon FAQ Home Backgammon Articles Backga...</td>\n",
       "      <td>24</td>\n",
       "      <td>How many points backgammon board</td>\n",
       "    </tr>\n",
       "    <tr>\n",
       "      <th>4</th>\n",
       "      <td>The Rules How Play Backgammon Back 1on1backgam...</td>\n",
       "      <td>24</td>\n",
       "      <td>How many points backgammon board</td>\n",
       "    </tr>\n",
       "  </tbody>\n",
       "</table>\n",
       "</div>"
      ],
      "text/plain": [
       "                                             context answer  \\\n",
       "0  Backgammon FAQ : Different Ways Playing Backga...     24   \n",
       "1  Backgammon Rules - How Play Backgammon Navigat...     24   \n",
       "2  Backgammon Rules Backgammon Backgammon Home Ba...     24   \n",
       "3  Backgammon FAQ Home Backgammon Articles Backga...     24   \n",
       "4  The Rules How Play Backgammon Back 1on1backgam...     24   \n",
       "\n",
       "                           question  \n",
       "0  How many points backgammon board  \n",
       "1  How many points backgammon board  \n",
       "2  How many points backgammon board  \n",
       "3  How many points backgammon board  \n",
       "4  How many points backgammon board  "
      ]
     },
     "execution_count": 8,
     "metadata": {},
     "output_type": "execute_result"
    }
   ],
   "source": [
    "# Stopwords removal with NLTK\n",
    "stop = stopwords.words('english')\n",
    "columns = ['context', 'answer', 'question']\n",
    "\n",
    "for col in columns:\n",
    "    df[col] = df[col].apply(lambda x: ' '.join([word\n",
    "       for word in x.split() if word not in (stop)\n",
    "    ]))\n",
    "\n",
    "df.head()"
   ]
  },
  {
   "cell_type": "markdown",
   "id": "f0393fab",
   "metadata": {},
   "source": [
    "Running the stopwords removal took my computer 10 min. I really wonder if we can eventually get better devices for this large dataset."
   ]
  },
  {
   "cell_type": "code",
   "execution_count": 9,
   "id": "9f15a6a9",
   "metadata": {},
   "outputs": [
    {
     "name": "stdout",
     "output_type": "stream",
     "text": [
      "Backgammon FAQ : Different Ways Playing Backgammon FAQ Different Ways Playing Tables Backgammon What tables ? How backgammon different games tables ? Does backgammon official rules ? Backgammon Variants What Nackgammon ? What hyper-backgammon ? What long-gammon ? What roll-over ? What backgammon-to-lose ? Acey-Deucey What acey-deucey ? How play American acey-deucey ? How play European acey-deucey ? Greek Backgammon What tavli ? How play portes ? How play plakoto ? How play fevga ? Other Games What trictrac ? What Russian backgammon ? What French backgammon ? What Dutch backgammon ? What snake ? Forms Competition What money play ? What match play ? What freeze-out match ? What duplicate backgammon ? Table Stakes What table stakes betting ? Why table stakes used ? How strategy table stakes differ unlimited money play ? Chouette What chouette ? What multiple-cube chouette ? When consulting allowed ? What extras ? Tables Backgammon Q : What tables ? Tables general term game played backgammon board . Actually , bit presumptuous us even call backgammon board , since backgammon 400 years old games tables thousands years old . Most tables games following features : The board consists 24 spaces points . Each player 15 pieces checkers move around board . The checkers moved according numbers rolled set dice . Usually two three dice rolled together . Q : How backgammon different games tables ? There three features distinguish backgammon games : Starting position . Each player starts 2 checkers respective 24-points , 5 checkers mid-points , 3 checkers 8-points , 5 checkers six-points . Doubles played twice . When roll doubles , play\n",
      "24\n",
      "How many points backgammon board\n"
     ]
    }
   ],
   "source": [
    "# Check the text content after stopwords removal\n",
    "print(df.iloc[0][0])\n",
    "print(df.iloc[0][1])\n",
    "print(df.iloc[0][2])"
   ]
  },
  {
   "cell_type": "markdown",
   "id": "cd0f0f35",
   "metadata": {},
   "source": [
    "## Perform lemmatization with NLTK"
   ]
  },
  {
   "cell_type": "markdown",
   "id": "6b540f7c",
   "metadata": {},
   "source": [
    "I chose lemmatization over stemming since the former is considered more powerful in terms of \"chopping\" words with respect to the context which better avoids misspelling and incorrect meaning. "
   ]
  },
  {
   "cell_type": "code",
   "execution_count": 10,
   "id": "e18fa5ef",
   "metadata": {},
   "outputs": [
    {
     "data": {
      "text/html": [
       "<div>\n",
       "<style scoped>\n",
       "    .dataframe tbody tr th:only-of-type {\n",
       "        vertical-align: middle;\n",
       "    }\n",
       "\n",
       "    .dataframe tbody tr th {\n",
       "        vertical-align: top;\n",
       "    }\n",
       "\n",
       "    .dataframe thead th {\n",
       "        text-align: right;\n",
       "    }\n",
       "</style>\n",
       "<table border=\"1\" class=\"dataframe\">\n",
       "  <thead>\n",
       "    <tr style=\"text-align: right;\">\n",
       "      <th></th>\n",
       "      <th>context</th>\n",
       "      <th>answer</th>\n",
       "      <th>question</th>\n",
       "    </tr>\n",
       "  </thead>\n",
       "  <tbody>\n",
       "    <tr>\n",
       "      <th>0</th>\n",
       "      <td>Backgammon FAQ : Different Ways Playing Backga...</td>\n",
       "      <td>24</td>\n",
       "      <td>How many point backgammon board</td>\n",
       "    </tr>\n",
       "    <tr>\n",
       "      <th>1</th>\n",
       "      <td>Backgammon Rules - How Play Backgammon Navigat...</td>\n",
       "      <td>24</td>\n",
       "      <td>How many point backgammon board</td>\n",
       "    </tr>\n",
       "    <tr>\n",
       "      <th>2</th>\n",
       "      <td>Backgammon Rules Backgammon Backgammon Home Ba...</td>\n",
       "      <td>24</td>\n",
       "      <td>How many point backgammon board</td>\n",
       "    </tr>\n",
       "    <tr>\n",
       "      <th>3</th>\n",
       "      <td>Backgammon FAQ Home Backgammon Articles Backga...</td>\n",
       "      <td>24</td>\n",
       "      <td>How many point backgammon board</td>\n",
       "    </tr>\n",
       "    <tr>\n",
       "      <th>4</th>\n",
       "      <td>The Rules How Play Backgammon Back 1on1backgam...</td>\n",
       "      <td>24</td>\n",
       "      <td>How many point backgammon board</td>\n",
       "    </tr>\n",
       "  </tbody>\n",
       "</table>\n",
       "</div>"
      ],
      "text/plain": [
       "                                             context answer  \\\n",
       "0  Backgammon FAQ : Different Ways Playing Backga...     24   \n",
       "1  Backgammon Rules - How Play Backgammon Navigat...     24   \n",
       "2  Backgammon Rules Backgammon Backgammon Home Ba...     24   \n",
       "3  Backgammon FAQ Home Backgammon Articles Backga...     24   \n",
       "4  The Rules How Play Backgammon Back 1on1backgam...     24   \n",
       "\n",
       "                          question  \n",
       "0  How many point backgammon board  \n",
       "1  How many point backgammon board  \n",
       "2  How many point backgammon board  \n",
       "3  How many point backgammon board  \n",
       "4  How many point backgammon board  "
      ]
     },
     "execution_count": 10,
     "metadata": {},
     "output_type": "execute_result"
    }
   ],
   "source": [
    "from nltk.stem import WordNetLemmatizer\n",
    "lemmatizer = WordNetLemmatizer()\n",
    "\n",
    "# Define the lemmatization function\n",
    "def lemmatize_words(text):\n",
    "    words = text.split()\n",
    "    words = [lemmatizer.lemmatize(word,pos='v') for word in words]\n",
    "    return ' '.join(words)\n",
    "# Lemmatization with NLTK\n",
    "for col in columns:\n",
    "    df[col] = df[col].apply(lemmatize_words)\n",
    "\n",
    "df.head()"
   ]
  },
  {
   "cell_type": "markdown",
   "id": "e3c5b27d",
   "metadata": {},
   "source": [
    "EVEN SLOWER. Lemmatization took like forever. Is there any quicker method that does the same thing or any changes I could make to improve it? "
   ]
  },
  {
   "cell_type": "code",
   "execution_count": 12,
   "id": "d250874c",
   "metadata": {},
   "outputs": [
    {
     "name": "stdout",
     "output_type": "stream",
     "text": [
      "Backgammon FAQ : Different Ways Playing Backgammon FAQ Different Ways Playing Tables Backgammon What table ? How backgammon different game table ? Does backgammon official rule ? Backgammon Variants What Nackgammon ? What hyper-backgammon ? What long-gammon ? What roll-over ? What backgammon-to-lose ? Acey-Deucey What acey-deucey ? How play American acey-deucey ? How play European acey-deucey ? Greek Backgammon What tavli ? How play port ? How play plakoto ? How play fevga ? Other Games What trictrac ? What Russian backgammon ? What French backgammon ? What Dutch backgammon ? What snake ? Forms Competition What money play ? What match play ? What freeze-out match ? What duplicate backgammon ? Table Stakes What table stake bet ? Why table stake use ? How strategy table stake differ unlimited money play ? Chouette What chouette ? What multiple-cube chouette ? When consult allow ? What extras ? Tables Backgammon Q : What table ? Tables general term game play backgammon board . Actually , bite presumptuous us even call backgammon board , since backgammon 400 years old game table thousands years old . Most table game follow feature : The board consist 24 space point . Each player 15 piece checker move around board . The checker move accord number roll set dice . Usually two three dice roll together . Q : How backgammon different game table ? There three feature distinguish backgammon game : Starting position . Each player start 2 checker respective 24-points , 5 checker mid-points , 3 checker 8-points , 5 checker six-points . Doubles play twice . When roll double , play\n",
      "24\n",
      "How many point backgammon board\n"
     ]
    }
   ],
   "source": [
    "# Check the lemmatized text content\n",
    "print(df.iloc[0][0])\n",
    "print(df.iloc[0][1])\n",
    "print(df.iloc[0][2])"
   ]
  },
  {
   "cell_type": "markdown",
   "id": "96f2e991",
   "metadata": {},
   "source": [
    "So far everything looks good! But since my approach and Rachel's appear very similar (we share the same first two steps, though I understand they are the essential starters in lots of NLP preprocessing paths), should we find a way that adds to the variety of our preprocessing approaches?"
   ]
  },
  {
   "cell_type": "code",
   "execution_count": null,
   "id": "30e2ab57",
   "metadata": {},
   "outputs": [],
   "source": [
    "# Code for stemming that should not be implemented; saved here just for reference\n",
    "\n",
    "#from nltk.stem.snowball import SnowballStemmer\n",
    "#stemmer = SnowballStemmer('english')\n",
    "\n",
    "#for col in columns:\n",
    "    #df[col] = df[col].apply(lambda x: [stemmer.stem(y) for y in x]) # Stem every word.\n",
    "\n",
    "#df.head()"
   ]
  },
  {
   "cell_type": "markdown",
   "id": "1cb860ce",
   "metadata": {},
   "source": [
    "## Remove punctuations (not sure if needed)"
   ]
  },
  {
   "cell_type": "markdown",
   "id": "9f669073",
   "metadata": {},
   "source": [
    "I think this cleans up and removes more unrelevant pieces from the data but not sure if it's necessary. "
   ]
  },
  {
   "cell_type": "code",
   "execution_count": 13,
   "id": "041a43ee",
   "metadata": {},
   "outputs": [
    {
     "data": {
      "text/plain": [
       "'!\"#$%&\\'()*+,-./:;<=>?@[\\\\]^_`{|}~'"
      ]
     },
     "execution_count": 13,
     "metadata": {},
     "output_type": "execute_result"
    }
   ],
   "source": [
    "import string #library that contains punctuation\n",
    "string.punctuation #view the punctuations"
   ]
  },
  {
   "cell_type": "code",
   "execution_count": 14,
   "id": "6e579c24",
   "metadata": {},
   "outputs": [
    {
     "data": {
      "text/html": [
       "<div>\n",
       "<style scoped>\n",
       "    .dataframe tbody tr th:only-of-type {\n",
       "        vertical-align: middle;\n",
       "    }\n",
       "\n",
       "    .dataframe tbody tr th {\n",
       "        vertical-align: top;\n",
       "    }\n",
       "\n",
       "    .dataframe thead th {\n",
       "        text-align: right;\n",
       "    }\n",
       "</style>\n",
       "<table border=\"1\" class=\"dataframe\">\n",
       "  <thead>\n",
       "    <tr style=\"text-align: right;\">\n",
       "      <th></th>\n",
       "      <th>context</th>\n",
       "      <th>answer</th>\n",
       "      <th>question</th>\n",
       "    </tr>\n",
       "  </thead>\n",
       "  <tbody>\n",
       "    <tr>\n",
       "      <th>0</th>\n",
       "      <td>Backgammon FAQ  Different Ways Playing Backgam...</td>\n",
       "      <td>24</td>\n",
       "      <td>How many point backgammon board</td>\n",
       "    </tr>\n",
       "    <tr>\n",
       "      <th>1</th>\n",
       "      <td>Backgammon Rules  How Play Backgammon Navigati...</td>\n",
       "      <td>24</td>\n",
       "      <td>How many point backgammon board</td>\n",
       "    </tr>\n",
       "    <tr>\n",
       "      <th>2</th>\n",
       "      <td>Backgammon Rules Backgammon Backgammon Home Ba...</td>\n",
       "      <td>24</td>\n",
       "      <td>How many point backgammon board</td>\n",
       "    </tr>\n",
       "    <tr>\n",
       "      <th>3</th>\n",
       "      <td>Backgammon FAQ Home Backgammon Articles Backga...</td>\n",
       "      <td>24</td>\n",
       "      <td>How many point backgammon board</td>\n",
       "    </tr>\n",
       "    <tr>\n",
       "      <th>4</th>\n",
       "      <td>The Rules How Play Backgammon Back 1on1backgam...</td>\n",
       "      <td>24</td>\n",
       "      <td>How many point backgammon board</td>\n",
       "    </tr>\n",
       "  </tbody>\n",
       "</table>\n",
       "</div>"
      ],
      "text/plain": [
       "                                             context answer  \\\n",
       "0  Backgammon FAQ  Different Ways Playing Backgam...     24   \n",
       "1  Backgammon Rules  How Play Backgammon Navigati...     24   \n",
       "2  Backgammon Rules Backgammon Backgammon Home Ba...     24   \n",
       "3  Backgammon FAQ Home Backgammon Articles Backga...     24   \n",
       "4  The Rules How Play Backgammon Back 1on1backgam...     24   \n",
       "\n",
       "                          question  \n",
       "0  How many point backgammon board  \n",
       "1  How many point backgammon board  \n",
       "2  How many point backgammon board  \n",
       "3  How many point backgammon board  \n",
       "4  How many point backgammon board  "
      ]
     },
     "execution_count": 14,
     "metadata": {},
     "output_type": "execute_result"
    }
   ],
   "source": [
    "# Define the function to remove punctuation\n",
    "def remove_punctuation(text):\n",
    "    if(type(text)==float):\n",
    "        return text\n",
    "    ans=\"\"  \n",
    "    for i in text:     \n",
    "        if i not in string.punctuation:\n",
    "            ans+=i    \n",
    "    return ans\n",
    "\n",
    "# Remove punctuations\n",
    "for col in columns:\n",
    "    df[col]= df[col].apply(lambda x:remove_punctuation(x))\n",
    "\n",
    "df.head()"
   ]
  },
  {
   "cell_type": "code",
   "execution_count": 15,
   "id": "5bf9009a",
   "metadata": {},
   "outputs": [
    {
     "name": "stdout",
     "output_type": "stream",
     "text": [
      "Backgammon FAQ  Different Ways Playing Backgammon FAQ Different Ways Playing Tables Backgammon What table  How backgammon different game table  Does backgammon official rule  Backgammon Variants What Nackgammon  What hyperbackgammon  What longgammon  What rollover  What backgammontolose  AceyDeucey What aceydeucey  How play American aceydeucey  How play European aceydeucey  Greek Backgammon What tavli  How play port  How play plakoto  How play fevga  Other Games What trictrac  What Russian backgammon  What French backgammon  What Dutch backgammon  What snake  Forms Competition What money play  What match play  What freezeout match  What duplicate backgammon  Table Stakes What table stake bet  Why table stake use  How strategy table stake differ unlimited money play  Chouette What chouette  What multiplecube chouette  When consult allow  What extras  Tables Backgammon Q  What table  Tables general term game play backgammon board  Actually  bite presumptuous us even call backgammon board  since backgammon 400 years old game table thousands years old  Most table game follow feature  The board consist 24 space point  Each player 15 piece checker move around board  The checker move accord number roll set dice  Usually two three dice roll together  Q  How backgammon different game table  There three feature distinguish backgammon game  Starting position  Each player start 2 checker respective 24points  5 checker midpoints  3 checker 8points  5 checker sixpoints  Doubles play twice  When roll double  play\n",
      "24\n",
      "How many point backgammon board\n"
     ]
    }
   ],
   "source": [
    "# Check the punctuation-free text content\n",
    "print(df.iloc[0][0])\n",
    "print(df.iloc[0][1])\n",
    "print(df.iloc[0][2])"
   ]
  },
  {
   "cell_type": "markdown",
   "id": "3aca2128",
   "metadata": {},
   "source": [
    "## Vectorize dataframe with n-gram based analysis using scikit-learn CountVectorizer"
   ]
  },
  {
   "cell_type": "markdown",
   "id": "69f7dd8c",
   "metadata": {},
   "source": [
    "A bit of overview/review: n-grams are continuous sequences of words/symbols/tokens in a document. They can be defined as the neighbouring sequences of items. In the N-Gram method, a document term matrix is generated and each cell represents the count. The count represents the combination of adjacent words of length n in the title. In n-gram ranking, we simply rank the n-grams according to how many times they appear in a body of text. \n",
    "\n",
    "CountVectorizer: a scikit-learn package that uses count vectorization to convert a collection of text documents to a matrix of token counts. Given a corpus of text documents, such as web pages or product descriptions, CountVectorizer can return a matrix outlining the number of occurrences of each word or phrase to help you identify common text patterns in the documents."
   ]
  },
  {
   "cell_type": "code",
   "execution_count": 16,
   "id": "f829dae0",
   "metadata": {},
   "outputs": [],
   "source": [
    "from sklearn.feature_extraction.text import CountVectorizer\n",
    "\n",
    "# Define a function to get n-grams using CountVectorizer\n",
    "def get_ngrams(text, ngram_from=2, ngram_to=2, n=None, max_features=20000):\n",
    "    \n",
    "    vec = CountVectorizer(ngram_range = (ngram_from, ngram_to), \n",
    "                          max_features = max_features, \n",
    "                          stop_words='english').fit(text)\n",
    "    bag_of_words = vec.transform(text)\n",
    "    sum_words = bag_of_words.sum(axis = 0) \n",
    "    words_freq = [(word, sum_words[0, i]) for word, i in vec.vocabulary_.items()]\n",
    "    words_freq = sorted(words_freq, key = lambda x: x[1], reverse = True)\n",
    "   \n",
    "    return words_freq[:n]"
   ]
  },
  {
   "cell_type": "markdown",
   "id": "3bb2a0b2",
   "metadata": {},
   "source": [
    "### Experiment with different hyperparameter values"
   ]
  },
  {
   "cell_type": "code",
   "execution_count": 17,
   "id": "c01d68cc",
   "metadata": {},
   "outputs": [
    {
     "data": {
      "text/html": [
       "<div>\n",
       "<style scoped>\n",
       "    .dataframe tbody tr th:only-of-type {\n",
       "        vertical-align: middle;\n",
       "    }\n",
       "\n",
       "    .dataframe tbody tr th {\n",
       "        vertical-align: top;\n",
       "    }\n",
       "\n",
       "    .dataframe thead th {\n",
       "        text-align: right;\n",
       "    }\n",
       "</style>\n",
       "<table border=\"1\" class=\"dataframe\">\n",
       "  <thead>\n",
       "    <tr style=\"text-align: right;\">\n",
       "      <th></th>\n",
       "      <th>trigram</th>\n",
       "      <th>frequency</th>\n",
       "    </tr>\n",
       "  </thead>\n",
       "  <tbody>\n",
       "    <tr>\n",
       "      <th>0</th>\n",
       "      <td>basic unit currency</td>\n",
       "      <td>3160</td>\n",
       "    </tr>\n",
       "    <tr>\n",
       "      <th>1</th>\n",
       "      <td>released 70 album</td>\n",
       "      <td>1040</td>\n",
       "    </tr>\n",
       "    <tr>\n",
       "      <th>2</th>\n",
       "      <td>70 album entitled</td>\n",
       "      <td>1040</td>\n",
       "    </tr>\n",
       "    <tr>\n",
       "      <th>3</th>\n",
       "      <td>eurovision song contest</td>\n",
       "      <td>560</td>\n",
       "    </tr>\n",
       "    <tr>\n",
       "      <th>4</th>\n",
       "      <td>greek equivalent roman</td>\n",
       "      <td>540</td>\n",
       "    </tr>\n",
       "  </tbody>\n",
       "</table>\n",
       "</div>"
      ],
      "text/plain": [
       "                   trigram  frequency\n",
       "0      basic unit currency       3160\n",
       "1        released 70 album       1040\n",
       "2        70 album entitled       1040\n",
       "3  eurovision song contest        560\n",
       "4   greek equivalent roman        540"
      ]
     },
     "execution_count": 17,
     "metadata": {},
     "output_type": "execute_result"
    }
   ],
   "source": [
    "# 3-grams\n",
    "trigrams = get_ngrams(df['question'], ngram_from=3, ngram_to=3, n=15)\n",
    "df_trigrams = pd.DataFrame(trigrams)\n",
    "df_trigrams.columns=[\"trigram\", \"frequency\"]\n",
    "\n",
    "df_trigrams.head()"
   ]
  },
  {
   "cell_type": "code",
   "execution_count": 19,
   "id": "87b51a0f",
   "metadata": {},
   "outputs": [
    {
     "data": {
      "text/html": [
       "<div>\n",
       "<style scoped>\n",
       "    .dataframe tbody tr th:only-of-type {\n",
       "        vertical-align: middle;\n",
       "    }\n",
       "\n",
       "    .dataframe tbody tr th {\n",
       "        vertical-align: top;\n",
       "    }\n",
       "\n",
       "    .dataframe thead th {\n",
       "        text-align: right;\n",
       "    }\n",
       "</style>\n",
       "<table border=\"1\" class=\"dataframe\">\n",
       "  <thead>\n",
       "    <tr style=\"text-align: right;\">\n",
       "      <th></th>\n",
       "      <th>quadgram</th>\n",
       "      <th>frequency</th>\n",
       "    </tr>\n",
       "  </thead>\n",
       "  <tbody>\n",
       "    <tr>\n",
       "      <th>0</th>\n",
       "      <td>state include telephone area code</td>\n",
       "      <td>500</td>\n",
       "    </tr>\n",
       "    <tr>\n",
       "      <th>1</th>\n",
       "      <td>international radio code word letter</td>\n",
       "      <td>440</td>\n",
       "    </tr>\n",
       "    <tr>\n",
       "      <th>2</th>\n",
       "      <td>la la la la la</td>\n",
       "      <td>140</td>\n",
       "    </tr>\n",
       "    <tr>\n",
       "      <th>3</th>\n",
       "      <td>international car registration letter country</td>\n",
       "      <td>100</td>\n",
       "    </tr>\n",
       "    <tr>\n",
       "      <th>4</th>\n",
       "      <td>monty python parody search holy</td>\n",
       "      <td>100</td>\n",
       "    </tr>\n",
       "  </tbody>\n",
       "</table>\n",
       "</div>"
      ],
      "text/plain": [
       "                                        quadgram  frequency\n",
       "0              state include telephone area code        500\n",
       "1           international radio code word letter        440\n",
       "2                                 la la la la la        140\n",
       "3  international car registration letter country        100\n",
       "4                monty python parody search holy        100"
      ]
     },
     "execution_count": 19,
     "metadata": {},
     "output_type": "execute_result"
    }
   ],
   "source": [
    "# 5-grams\n",
    "quadgrams = get_ngrams(df['question'], ngram_from=5, ngram_to=5, n=15)\n",
    "df_quadgrams = pd.DataFrame(quadgrams)\n",
    "df_quadgrams.columns=[\"quadgram\", \"frequency\"]\n",
    "\n",
    "df_quadgrams.head()"
   ]
  },
  {
   "cell_type": "markdown",
   "id": "99d7bc29",
   "metadata": {},
   "source": [
    "Should we experiment with different values for the hyperparameter to find the best performing n-gram? What criteria are we relying on to assess which one is the \"best\"?"
   ]
  },
  {
   "cell_type": "markdown",
   "id": "7e7ee5b5",
   "metadata": {},
   "source": [
    "### Apply the ideal n-gram vectorization to the whole dataframe"
   ]
  },
  {
   "cell_type": "code",
   "execution_count": null,
   "id": "24be5f0a",
   "metadata": {},
   "outputs": [],
   "source": [
    "for col in columns:\n",
    "    "
   ]
  },
  {
   "cell_type": "markdown",
   "id": "6e811740",
   "metadata": {},
   "source": [
    "### Modeling"
   ]
  },
  {
   "cell_type": "code",
   "execution_count": null,
   "id": "b0409877",
   "metadata": {},
   "outputs": [],
   "source": []
  }
 ],
 "metadata": {
  "kernelspec": {
   "display_name": "Python 3 (ipykernel)",
   "language": "python",
   "name": "python3"
  },
  "language_info": {
   "codemirror_mode": {
    "name": "ipython",
    "version": 3
   },
   "file_extension": ".py",
   "mimetype": "text/x-python",
   "name": "python",
   "nbconvert_exporter": "python",
   "pygments_lexer": "ipython3",
   "version": "3.9.12"
  }
 },
 "nbformat": 4,
 "nbformat_minor": 5
}
